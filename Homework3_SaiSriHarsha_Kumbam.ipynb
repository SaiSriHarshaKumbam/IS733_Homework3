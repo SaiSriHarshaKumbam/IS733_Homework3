{
 "cells": [
  {
   "cell_type": "markdown",
   "id": "d458872f",
   "metadata": {},
   "source": [
    "# Homework-3"
   ]
  },
  {
   "cell_type": "code",
   "execution_count": 1,
   "id": "42406406",
   "metadata": {},
   "outputs": [
    {
     "name": "stdout",
     "output_type": "stream",
     "text": [
      "Shape of the dataset:  (1043, 472)\n"
     ]
    }
   ],
   "source": [
    "import pandas as pd\n",
    "import numpy as np\n",
    "filepath=\"C:/Users/harsha/Desktop/DataMining_733/Homework3/SP500_close_price_no_missing.csv\"\n",
    "df_sp500_close_no_missing=pd.read_csv(filepath)\n",
    "\n",
    "shape=df_sp500_close_no_missing.shape\n",
    "print(\"Shape of the dataset: \",shape)"
   ]
  },
  {
   "cell_type": "code",
   "execution_count": 2,
   "id": "97a6ed86",
   "metadata": {},
   "outputs": [
    {
     "data": {
      "text/html": [
       "<div>\n",
       "<style scoped>\n",
       "    .dataframe tbody tr th:only-of-type {\n",
       "        vertical-align: middle;\n",
       "    }\n",
       "\n",
       "    .dataframe tbody tr th {\n",
       "        vertical-align: top;\n",
       "    }\n",
       "\n",
       "    .dataframe thead th {\n",
       "        text-align: right;\n",
       "    }\n",
       "</style>\n",
       "<table border=\"1\" class=\"dataframe\">\n",
       "  <thead>\n",
       "    <tr style=\"text-align: right;\">\n",
       "      <th></th>\n",
       "      <th>date</th>\n",
       "      <th>MMM</th>\n",
       "      <th>ACE</th>\n",
       "      <th>ABT</th>\n",
       "      <th>ANF</th>\n",
       "      <th>ADBE</th>\n",
       "      <th>AMD</th>\n",
       "      <th>AES</th>\n",
       "      <th>AET</th>\n",
       "      <th>AFL</th>\n",
       "      <th>...</th>\n",
       "      <th>WYN</th>\n",
       "      <th>WYNN</th>\n",
       "      <th>XEL</th>\n",
       "      <th>XRX</th>\n",
       "      <th>XLNX</th>\n",
       "      <th>XL</th>\n",
       "      <th>YHOO</th>\n",
       "      <th>YUM</th>\n",
       "      <th>ZMH</th>\n",
       "      <th>ZION</th>\n",
       "    </tr>\n",
       "  </thead>\n",
       "  <tbody>\n",
       "    <tr>\n",
       "      <th>0</th>\n",
       "      <td>2011-01-03</td>\n",
       "      <td>86.79</td>\n",
       "      <td>62.24</td>\n",
       "      <td>47.82</td>\n",
       "      <td>58.03</td>\n",
       "      <td>31.29</td>\n",
       "      <td>8.47</td>\n",
       "      <td>12.54</td>\n",
       "      <td>31.04</td>\n",
       "      <td>57.54</td>\n",
       "      <td>...</td>\n",
       "      <td>30.67</td>\n",
       "      <td>108.99</td>\n",
       "      <td>23.56</td>\n",
       "      <td>11.71</td>\n",
       "      <td>29.42</td>\n",
       "      <td>22.16</td>\n",
       "      <td>16.75</td>\n",
       "      <td>49.09</td>\n",
       "      <td>54.97</td>\n",
       "      <td>25.17</td>\n",
       "    </tr>\n",
       "    <tr>\n",
       "      <th>1</th>\n",
       "      <td>2011-01-04</td>\n",
       "      <td>86.67</td>\n",
       "      <td>62.20</td>\n",
       "      <td>48.27</td>\n",
       "      <td>56.22</td>\n",
       "      <td>31.51</td>\n",
       "      <td>8.77</td>\n",
       "      <td>12.60</td>\n",
       "      <td>31.20</td>\n",
       "      <td>56.49</td>\n",
       "      <td>...</td>\n",
       "      <td>30.48</td>\n",
       "      <td>112.39</td>\n",
       "      <td>23.66</td>\n",
       "      <td>11.40</td>\n",
       "      <td>29.54</td>\n",
       "      <td>22.05</td>\n",
       "      <td>16.59</td>\n",
       "      <td>48.34</td>\n",
       "      <td>54.24</td>\n",
       "      <td>24.76</td>\n",
       "    </tr>\n",
       "    <tr>\n",
       "      <th>2</th>\n",
       "      <td>2011-01-05</td>\n",
       "      <td>86.67</td>\n",
       "      <td>61.99</td>\n",
       "      <td>48.27</td>\n",
       "      <td>55.35</td>\n",
       "      <td>32.22</td>\n",
       "      <td>8.91</td>\n",
       "      <td>12.77</td>\n",
       "      <td>31.50</td>\n",
       "      <td>56.38</td>\n",
       "      <td>...</td>\n",
       "      <td>30.38</td>\n",
       "      <td>113.84</td>\n",
       "      <td>23.52</td>\n",
       "      <td>11.46</td>\n",
       "      <td>29.64</td>\n",
       "      <td>22.17</td>\n",
       "      <td>16.91</td>\n",
       "      <td>48.57</td>\n",
       "      <td>54.28</td>\n",
       "      <td>24.90</td>\n",
       "    </tr>\n",
       "    <tr>\n",
       "      <th>3</th>\n",
       "      <td>2011-01-06</td>\n",
       "      <td>86.14</td>\n",
       "      <td>61.72</td>\n",
       "      <td>48.17</td>\n",
       "      <td>53.53</td>\n",
       "      <td>32.27</td>\n",
       "      <td>8.69</td>\n",
       "      <td>12.99</td>\n",
       "      <td>32.09</td>\n",
       "      <td>56.07</td>\n",
       "      <td>...</td>\n",
       "      <td>29.94</td>\n",
       "      <td>114.67</td>\n",
       "      <td>23.50</td>\n",
       "      <td>11.46</td>\n",
       "      <td>30.14</td>\n",
       "      <td>22.16</td>\n",
       "      <td>17.06</td>\n",
       "      <td>48.91</td>\n",
       "      <td>52.60</td>\n",
       "      <td>24.83</td>\n",
       "    </tr>\n",
       "    <tr>\n",
       "      <th>4</th>\n",
       "      <td>2011-01-07</td>\n",
       "      <td>86.23</td>\n",
       "      <td>61.26</td>\n",
       "      <td>48.37</td>\n",
       "      <td>53.57</td>\n",
       "      <td>32.04</td>\n",
       "      <td>8.83</td>\n",
       "      <td>12.99</td>\n",
       "      <td>32.16</td>\n",
       "      <td>55.85</td>\n",
       "      <td>...</td>\n",
       "      <td>29.83</td>\n",
       "      <td>118.73</td>\n",
       "      <td>23.71</td>\n",
       "      <td>11.30</td>\n",
       "      <td>29.97</td>\n",
       "      <td>22.12</td>\n",
       "      <td>16.90</td>\n",
       "      <td>49.52</td>\n",
       "      <td>52.59</td>\n",
       "      <td>24.57</td>\n",
       "    </tr>\n",
       "  </tbody>\n",
       "</table>\n",
       "<p>5 rows × 472 columns</p>\n",
       "</div>"
      ],
      "text/plain": [
       "         date    MMM    ACE    ABT    ANF   ADBE   AMD    AES    AET    AFL  \\\n",
       "0  2011-01-03  86.79  62.24  47.82  58.03  31.29  8.47  12.54  31.04  57.54   \n",
       "1  2011-01-04  86.67  62.20  48.27  56.22  31.51  8.77  12.60  31.20  56.49   \n",
       "2  2011-01-05  86.67  61.99  48.27  55.35  32.22  8.91  12.77  31.50  56.38   \n",
       "3  2011-01-06  86.14  61.72  48.17  53.53  32.27  8.69  12.99  32.09  56.07   \n",
       "4  2011-01-07  86.23  61.26  48.37  53.57  32.04  8.83  12.99  32.16  55.85   \n",
       "\n",
       "   ...    WYN    WYNN    XEL    XRX   XLNX     XL   YHOO    YUM    ZMH   ZION  \n",
       "0  ...  30.67  108.99  23.56  11.71  29.42  22.16  16.75  49.09  54.97  25.17  \n",
       "1  ...  30.48  112.39  23.66  11.40  29.54  22.05  16.59  48.34  54.24  24.76  \n",
       "2  ...  30.38  113.84  23.52  11.46  29.64  22.17  16.91  48.57  54.28  24.90  \n",
       "3  ...  29.94  114.67  23.50  11.46  30.14  22.16  17.06  48.91  52.60  24.83  \n",
       "4  ...  29.83  118.73  23.71  11.30  29.97  22.12  16.90  49.52  52.59  24.57  \n",
       "\n",
       "[5 rows x 472 columns]"
      ]
     },
     "execution_count": 2,
     "metadata": {},
     "output_type": "execute_result"
    }
   ],
   "source": [
    "df_sp500_close_no_missing.head()"
   ]
  },
  {
   "cell_type": "code",
   "execution_count": 3,
   "id": "9d252ef1",
   "metadata": {},
   "outputs": [
    {
     "name": "stdout",
     "output_type": "stream",
     "text": [
      "<class 'pandas.core.frame.DataFrame'>\n",
      "RangeIndex: 1043 entries, 0 to 1042\n",
      "Columns: 472 entries, date to ZION\n",
      "dtypes: float64(471), object(1)\n",
      "memory usage: 3.8+ MB\n"
     ]
    }
   ],
   "source": [
    "df_sp500_close_no_missing.info()"
   ]
  },
  {
   "cell_type": "code",
   "execution_count": 4,
   "id": "246f9f4e",
   "metadata": {},
   "outputs": [
    {
     "data": {
      "text/plain": [
       "date     object\n",
       "MMM     float64\n",
       "ACE     float64\n",
       "ABT     float64\n",
       "ANF     float64\n",
       "         ...   \n",
       "XL      float64\n",
       "YHOO    float64\n",
       "YUM     float64\n",
       "ZMH     float64\n",
       "ZION    float64\n",
       "Length: 472, dtype: object"
      ]
     },
     "execution_count": 4,
     "metadata": {},
     "output_type": "execute_result"
    }
   ],
   "source": [
    "df_sp500_close_no_missing.dtypes"
   ]
  },
  {
   "cell_type": "code",
   "execution_count": 5,
   "id": "841e9dfc",
   "metadata": {},
   "outputs": [],
   "source": [
    "#In the above lines of code date is being considered as an object datatype so I am converting it into date datatype to avaoid confusion in the further implementation of the code\n"
   ]
  },
  {
   "cell_type": "code",
   "execution_count": 6,
   "id": "8b505f07",
   "metadata": {},
   "outputs": [
    {
     "data": {
      "text/plain": [
       "index             int64\n",
       "date     datetime64[ns]\n",
       "MMM             float64\n",
       "ACE             float64\n",
       "ABT             float64\n",
       "              ...      \n",
       "XL              float64\n",
       "YHOO            float64\n",
       "YUM             float64\n",
       "ZMH             float64\n",
       "ZION            float64\n",
       "Length: 473, dtype: object"
      ]
     },
     "execution_count": 6,
     "metadata": {},
     "output_type": "execute_result"
    }
   ],
   "source": [
    "ddf_sp500_close_no_missing= df_sp500_close_no_missing.convert_dtypes()\n",
    "df_sp500_close_no_missing['date']= pd.to_datetime(df_sp500_close_no_missing['date'])\n",
    "df_sp500_close_no_missing.reset_index(inplace=True)\n",
    "df_sp500_close_no_missing.dtypes"
   ]
  },
  {
   "cell_type": "code",
   "execution_count": 7,
   "id": "15133203",
   "metadata": {},
   "outputs": [],
   "source": [
    "#Now reading the rest of the stocks which were not listed because if the error or not getting listed as of Jan,1 2011 "
   ]
  },
  {
   "cell_type": "code",
   "execution_count": 13,
   "id": "1aee3401",
   "metadata": {},
   "outputs": [
    {
     "name": "stdout",
     "output_type": "stream",
     "text": [
      "Shape of the dataset:  (500, 3)\n"
     ]
    }
   ],
   "source": [
    "import pandas as pd\n",
    "\n",
    "filepath_ticker = 'C:/Users/harsha/Desktop/DataMining_733/Homework3/SP500_ticker.csv'\n",
    "df_sp500_ticker = pd.read_csv(filepath_ticker, encoding='latin1')  # or encoding='ISO-8859-1'\n",
    "shape_ticker = df_sp500_ticker.shape\n",
    "print(\"Shape of the dataset: \", shape_ticker)\n"
   ]
  },
  {
   "cell_type": "code",
   "execution_count": 14,
   "id": "f4c94dea",
   "metadata": {},
   "outputs": [
    {
     "data": {
      "text/html": [
       "<div>\n",
       "<style scoped>\n",
       "    .dataframe tbody tr th:only-of-type {\n",
       "        vertical-align: middle;\n",
       "    }\n",
       "\n",
       "    .dataframe tbody tr th {\n",
       "        vertical-align: top;\n",
       "    }\n",
       "\n",
       "    .dataframe thead th {\n",
       "        text-align: right;\n",
       "    }\n",
       "</style>\n",
       "<table border=\"1\" class=\"dataframe\">\n",
       "  <thead>\n",
       "    <tr style=\"text-align: right;\">\n",
       "      <th></th>\n",
       "      <th>ticker</th>\n",
       "      <th>company_name</th>\n",
       "      <th>sector</th>\n",
       "    </tr>\n",
       "  </thead>\n",
       "  <tbody>\n",
       "    <tr>\n",
       "      <th>0</th>\n",
       "      <td>MMM</td>\n",
       "      <td>3M Co.</td>\n",
       "      <td>Industrials</td>\n",
       "    </tr>\n",
       "    <tr>\n",
       "      <th>1</th>\n",
       "      <td>ACE</td>\n",
       "      <td>ACE Limited</td>\n",
       "      <td>Financials</td>\n",
       "    </tr>\n",
       "    <tr>\n",
       "      <th>2</th>\n",
       "      <td>ABT</td>\n",
       "      <td>Abbott Laboratories</td>\n",
       "      <td>Health Care</td>\n",
       "    </tr>\n",
       "    <tr>\n",
       "      <th>3</th>\n",
       "      <td>ANF</td>\n",
       "      <td>Abercrombie &amp; Fitch Company A</td>\n",
       "      <td>Consumer Discretionary</td>\n",
       "    </tr>\n",
       "    <tr>\n",
       "      <th>4</th>\n",
       "      <td>ADBE</td>\n",
       "      <td>Adobe Systems Inc</td>\n",
       "      <td>Information Technology</td>\n",
       "    </tr>\n",
       "  </tbody>\n",
       "</table>\n",
       "</div>"
      ],
      "text/plain": [
       "  ticker                    company_name                   sector\n",
       "0    MMM                         3M Co.              Industrials \n",
       "1    ACE                    ACE Limited               Financials \n",
       "2    ABT            Abbott Laboratories              Health Care \n",
       "3    ANF  Abercrombie & Fitch Company A   Consumer Discretionary \n",
       "4   ADBE              Adobe Systems Inc   Information Technology "
      ]
     },
     "execution_count": 14,
     "metadata": {},
     "output_type": "execute_result"
    }
   ],
   "source": [
    "df_sp500_ticker.head()"
   ]
  },
  {
   "cell_type": "code",
   "execution_count": 15,
   "id": "1705107e",
   "metadata": {},
   "outputs": [
    {
     "name": "stdout",
     "output_type": "stream",
     "text": [
      "<class 'pandas.core.frame.DataFrame'>\n",
      "RangeIndex: 500 entries, 0 to 499\n",
      "Data columns (total 3 columns):\n",
      " #   Column        Non-Null Count  Dtype \n",
      "---  ------        --------------  ----- \n",
      " 0   ticker        500 non-null    object\n",
      " 1   company_name  500 non-null    object\n",
      " 2   sector        500 non-null    object\n",
      "dtypes: object(3)\n",
      "memory usage: 11.8+ KB\n"
     ]
    }
   ],
   "source": [
    "df_sp500_ticker.info()"
   ]
  },
  {
   "cell_type": "markdown",
   "id": "5c953926",
   "metadata": {},
   "source": [
    "# Problem-1"
   ]
  },
  {
   "cell_type": "markdown",
   "id": "e4cf249c",
   "metadata": {},
   "source": [
    "# a) Fit a PCA model to log returns"
   ]
  },
  {
   "cell_type": "markdown",
   "id": "2f96e0f2",
   "metadata": {},
   "source": [
    "# 1.\tDerive log returns from the raw stock price dataset"
   ]
  },
  {
   "cell_type": "code",
   "execution_count": 17,
   "id": "16510245",
   "metadata": {},
   "outputs": [
    {
     "name": "stdout",
     "output_type": "stream",
     "text": [
      "      index       MMM       ACE       ABT       ANF      ADBE       AMD  \\\n",
      "0       NaN       NaN       NaN       NaN       NaN       NaN       NaN   \n",
      "1       NaN -0.001384 -0.000643  0.009366 -0.031688  0.007006  0.034806   \n",
      "2  0.693147  0.000000 -0.003382  0.000000 -0.015596  0.022282  0.015837   \n",
      "3  0.405465 -0.006134 -0.004365 -0.002074 -0.033434  0.001551 -0.025001   \n",
      "4  0.287682  0.001044 -0.007481  0.004143  0.000747 -0.007153  0.015982   \n",
      "\n",
      "        AES       AET       AFL  ...       WYN      WYNN       XEL       XRX  \\\n",
      "0       NaN       NaN       NaN  ...       NaN       NaN       NaN       NaN   \n",
      "1  0.004773  0.005141 -0.018417  ... -0.006214  0.030719  0.004235 -0.026830   \n",
      "2  0.013402  0.009569 -0.001949  ... -0.003286  0.012819 -0.005935  0.005249   \n",
      "3  0.017081  0.018557 -0.005514  ... -0.014589  0.007264 -0.000851  0.000000   \n",
      "4  0.000000  0.002179 -0.003931  ... -0.003681  0.034794  0.008896 -0.014060   \n",
      "\n",
      "       XLNX        XL      YHOO       YUM       ZMH      ZION  \n",
      "0       NaN       NaN       NaN       NaN       NaN       NaN  \n",
      "1  0.004071 -0.004976 -0.009598 -0.015396 -0.013369 -0.016423  \n",
      "2  0.003380  0.005427  0.019105  0.004747  0.000737  0.005638  \n",
      "3  0.016728 -0.000451  0.008831  0.006976 -0.031440 -0.002815  \n",
      "4 -0.005656 -0.001807 -0.009423  0.012395 -0.000190 -0.010526  \n",
      "\n",
      "[5 rows x 472 columns]\n"
     ]
    }
   ],
   "source": [
    "\n",
    "# Extracting numeric columns (excluding 'date')\n",
    "numeric_columns = df_sp500_close_no_missing.drop('date', axis=1)\n",
    "\n",
    "# Calculate log returns\n",
    "log_returns = np.log(numeric_columns / numeric_columns.shift(1))\n",
    "\n",
    "# Replace any potential inf or -inf values with NaN\n",
    "log_returns.replace([np.inf, -np.inf], np.nan, inplace=True)\n",
    "\n",
    "# Display the first few rows of log returns\n",
    "print(log_returns.head())\n"
   ]
  },
  {
   "cell_type": "markdown",
   "id": "809d5fb6",
   "metadata": {},
   "source": [
    "# 2. Plot a scree plot which shows the distribution of variance contained in subsequent principal components sorted by their eigenvalues."
   ]
  },
  {
   "cell_type": "code",
   "execution_count": 18,
   "id": "5c1f4411",
   "metadata": {},
   "outputs": [
    {
     "data": {
      "image/png": "[encoded data removed]",
      "text/plain": [
       "<Figure size 720x432 with 1 Axes>"
      ]
     },
     "metadata": {
      "needs_background": "light"
     },
     "output_type": "display_data"
    }
   ],
   "source": [
    "import matplotlib.pyplot as plt\n",
    "\n",
    "# Assuming principal_components is the result of our PCA analysis\n",
    "\n",
    "# Fit PCA model\n",
    "from sklearn.decomposition import PCA\n",
    "\n",
    "pca = PCA()\n",
    "principal_components = pca.fit_transform(log_returns.dropna())\n",
    "\n",
    "# Calculate the explained variance ratio\n",
    "explained_variance_ratio = pca.explained_variance_ratio_\n",
    "\n",
    "# Calculate cumulative explained variance\n",
    "cumulative_explained_variance = explained_variance_ratio.cumsum()\n",
    "\n",
    "# Plot the scree plot\n",
    "plt.figure(figsize=(10, 6))\n",
    "plt.plot(range(1, len(explained_variance_ratio) + 1), explained_variance_ratio, marker='o', linestyle='-', color='b')\n",
    "plt.title('Scree Plot')\n",
    "plt.xlabel('Principal Component')\n",
    "plt.ylabel('Explained Variance Ratio')\n",
    "plt.show()\n"
   ]
  },
  {
   "cell_type": "markdown",
   "id": "5b4e417a",
   "metadata": {},
   "source": [
    "# 3. Create a second plot showing cumulative variance retained if top N components are kept after dimensionality reduction (i.e. the horizontal axis will show the number of components kept, the vertical axis will show the cumulative percentage of variance retained)."
   ]
  },
  {
   "cell_type": "code",
   "execution_count": 19,
   "id": "88937fdd",
   "metadata": {},
   "outputs": [
    {
     "data": {
      "image/png": "[encoded data removed]",
      "text/plain": [
       "<Figure size 720x432 with 1 Axes>"
      ]
     },
     "metadata": {
      "needs_background": "light"
     },
     "output_type": "display_data"
    }
   ],
   "source": [
    "import matplotlib.pyplot as plt\n",
    "\n",
    "\n",
    "# Assuming principal_components is the result of our PCA analysis\n",
    "\n",
    "# Fit PCA model\n",
    "from sklearn.decomposition import PCA\n",
    "\n",
    "pca = PCA()\n",
    "principal_components = pca.fit_transform(log_returns.dropna())\n",
    "\n",
    "# Calculate the explained variance ratio\n",
    "explained_variance_ratio = pca.explained_variance_ratio_\n",
    "\n",
    "# Calculate cumulative explained variance\n",
    "cumulative_explained_variance = explained_variance_ratio.cumsum()\n",
    "\n",
    "# Plot the cumulative variance retained\n",
    "plt.figure(figsize=(10, 6))\n",
    "plt.plot(range(1, len(cumulative_explained_variance) + 1), cumulative_explained_variance, marker='o', linestyle='-', color='r')\n",
    "plt.title('Cumulative Variance Retained')\n",
    "plt.xlabel('Number of Components Kept')\n",
    "plt.ylabel('Cumulative Explained Variance Ratio')\n",
    "plt.show()\n"
   ]
  },
  {
   "cell_type": "markdown",
   "id": "54f7e0ad",
   "metadata": {},
   "source": [
    "# 4. How many principal components must be retained in order to capture at least 80% of the total variance in data?"
   ]
  },
  {
   "cell_type": "code",
   "execution_count": 20,
   "id": "d5e329b6",
   "metadata": {},
   "outputs": [
    {
     "name": "stdout",
     "output_type": "stream",
     "text": [
      "Number of components needed to retain at least 80.0% of variance: 2\n"
     ]
    }
   ],
   "source": [
    "# Assuming cumulative_explained_variance is the cumulative explained variance obtained from your PCA analysis\n",
    "\n",
    "# Set the threshold for the minimum variance retained (e.g., 80%)\n",
    "variance_threshold = 0.8\n",
    "\n",
    "# Find the number of components needed to reach or exceed the threshold\n",
    "num_components_needed = np.argmax(cumulative_explained_variance >= variance_threshold) + 1\n",
    "\n",
    "print(f'Number of components needed to retain at least {variance_threshold * 100}% of variance: {num_components_needed}')\n"
   ]
  },
  {
   "cell_type": "markdown",
   "id": "bbf0cac2",
   "metadata": {},
   "source": [
    "# b)\tAnalysis of principal components and weights "
   ]
  },
  {
   "cell_type": "markdown",
   "id": "1410bc28",
   "metadata": {},
   "source": [
    "# 1.\tCompute and plot the time series of the 1st principal component and observe temporal patterns. Identify the date with the lowest value for this component and conduct a quick research on the Internet to see if you can identify event(s) that might explain the observed behavior. "
   ]
  },
  {
   "cell_type": "code",
   "execution_count": 41,
   "id": "8c97812f",
   "metadata": {},
   "outputs": [],
   "source": [
    "import matplotlib.pyplot as plt\n",
    "\n",
    "\n",
    "\n"
   ]
  },
  {
   "cell_type": "code",
   "execution_count": 35,
   "id": "e7eae9cf",
   "metadata": {},
   "outputs": [
    {
     "name": "stdout",
     "output_type": "stream",
     "text": [
      "index    0\n",
      "MMM      0\n",
      "ACE      0\n",
      "ABT      0\n",
      "ANF      0\n",
      "        ..\n",
      "XL       0\n",
      "YHOO     0\n",
      "YUM      0\n",
      "ZMH      0\n",
      "ZION     0\n",
      "Length: 472, dtype: int64\n"
     ]
    }
   ],
   "source": [
    "#cheking missing values\n",
    "print(log_returns.isnull().sum())\n"
   ]
  },
  {
   "cell_type": "code",
   "execution_count": 36,
   "id": "3cdea3b4",
   "metadata": {},
   "outputs": [
    {
     "name": "stdout",
     "output_type": "stream",
     "text": [
      "index    True\n",
      "MMM      True\n",
      "ACE      True\n",
      "ABT      True\n",
      "ANF      True\n",
      "         ... \n",
      "XL       True\n",
      "YHOO     True\n",
      "YUM      True\n",
      "ZMH      True\n",
      "ZION     True\n",
      "Length: 472, dtype: bool\n",
      "index    True\n",
      "MMM      True\n",
      "ACE      True\n",
      "ABT      True\n",
      "ANF      True\n",
      "         ... \n",
      "XL       True\n",
      "YHOO     True\n",
      "YUM      True\n",
      "ZMH      True\n",
      "ZION     True\n",
      "Length: 472, dtype: bool\n"
     ]
    }
   ],
   "source": [
    "#checking for infinity or large values\n",
    "print(np.isfinite(log_returns).all())\n",
    "print((log_returns < np.finfo(np.float64).max).all())\n"
   ]
  },
  {
   "cell_type": "code",
   "execution_count": 37,
   "id": "379de001",
   "metadata": {},
   "outputs": [],
   "source": [
    "#removing missing or null values\n",
    "log_returns = log_returns.dropna()  # Remove rows with missing values\n"
   ]
  },
  {
   "cell_type": "code",
   "execution_count": 42,
   "id": "4a282127",
   "metadata": {},
   "outputs": [
    {
     "data": {
      "image/png": "[encoded data removed]",
      "text/plain": [
       "<Figure size 864x432 with 1 Axes>"
      ]
     },
     "metadata": {
      "needs_background": "light"
     },
     "output_type": "display_data"
    }
   ],
   "source": [
    "# Assuming principal_components is your array of principal components\n",
    "# Extract the 1st principal component\n",
    "pc1 = principal_components[:, 0]\n",
    "\n",
    "# Check the dimensions and trim if necessary\n",
    "df_sp500_close_no_missing['date'] = pd.to_datetime(df_sp500_close_no_missing['date'])\n",
    "pc1_dates = df_sp500_close_no_missing['date'][:len(pc1)]\n",
    "\n",
    "# Plot the time series of the 1st principal component\n",
    "plt.figure(figsize=(12, 6))\n",
    "plt.plot(pc1_dates, pc1)\n",
    "plt.title('Time Series of 1st Principal Component')\n",
    "plt.xlabel('Date')\n",
    "plt.ylabel('Principal Component Value')\n",
    "plt.show()\n"
   ]
  },
  {
   "cell_type": "code",
   "execution_count": 40,
   "id": "34983bf8",
   "metadata": {},
   "outputs": [
    {
     "name": "stdout",
     "output_type": "stream",
     "text": [
      "Date with the lowest value for the 1st principal component: 2011-02-17 00:00:00\n"
     ]
    }
   ],
   "source": [
    "# Identify the date with the lowest value\n",
    "min_pc1_date = pc1_dates[np.argmin(pc1)]\n",
    "print(f'Date with the lowest value for the 1st principal component: {min_pc1_date}')\n",
    "\n"
   ]
  },
  {
   "cell_type": "markdown",
   "id": "67ec3f2a",
   "metadata": {},
   "source": [
    "# 2.\tExtract the weights from the PCA model for 1st and 2nd principal components. "
   ]
  },
  {
   "cell_type": "code",
   "execution_count": 43,
   "id": "05f85827",
   "metadata": {},
   "outputs": [
    {
     "name": "stdout",
     "output_type": "stream",
     "text": [
      "Weights for the 1st Principal Component:\n",
      "[-6.52958219e-05 -2.53387429e-04 -4.24236405e-04  7.08630000e-05\n",
      " -2.84353638e-04 -5.72742531e-04  4.76103186e-05 -3.91482729e-04\n",
      " -4.58516379e-04 -6.22971645e-04 -9.66593019e-04 -1.89841894e-04\n",
      " -1.46157149e-04 -1.15272668e-03 -1.72101978e-04 -4.69836070e-04\n",
      " -6.97035033e-04  8.32321894e-04 -2.84547331e-04 -3.45611309e-04\n",
      "  2.36186756e-04  5.60980905e-06 -6.04004658e-04  1.87934093e-04\n",
      " -3.60562250e-04 -8.37261638e-04 -1.43220004e-04 -5.86378728e-04\n",
      "  7.50636633e-05  4.96997184e-04 -9.87677906e-05 -2.94175219e-04\n",
      " -6.47699090e-05 -1.48635132e-04 -7.82849938e-04  3.27634262e-04\n",
      "  1.33994281e-03  3.81755454e-04 -5.37735250e-04 -1.64836614e-04\n",
      " -1.07097001e-03  5.44785721e-05  1.24784502e-04 -1.18709351e-04\n",
      " -2.47603632e-04 -2.02252044e-04  2.30106103e-04 -9.28029544e-05\n",
      " -1.63860226e-03 -5.88323867e-04 -1.89188616e-04 -7.00963639e-04\n",
      " -6.55289355e-04  6.86455810e-05 -1.94796859e-04 -3.93556165e-04\n",
      " -7.39503061e-05 -4.63155720e-04 -1.60237735e-04 -2.80079866e-04\n",
      "  8.22228726e-04 -2.05257968e-04  3.48586848e-04 -5.34860615e-04\n",
      "  1.01551425e-05 -1.62335723e-01 -5.76080359e-04  1.97832733e-04\n",
      " -5.47527882e-04  1.35772818e-04 -1.04460795e-03 -3.04694534e-04\n",
      " -5.29142936e-04 -4.00419190e-04  1.80206501e-04  7.46805125e-05\n",
      " -5.76704317e-04 -3.06553293e-05 -5.26865214e-04 -1.20288284e-04\n",
      " -4.91848937e-04 -6.16809091e-04 -1.14245978e-03 -1.90012213e-04\n",
      " -7.96976027e-04 -2.08420187e-04  1.36267971e-04 -1.44651401e-04\n",
      " -2.99222095e-04 -1.48088807e-05 -1.04565086e-04 -3.84807890e-04\n",
      " -3.02742157e-04  1.36570437e-05 -1.78357495e-04 -9.85613058e-05\n",
      " -2.58116320e-04 -2.34941871e-04  4.04210140e-05 -1.38795420e-03\n",
      " -4.22499618e-04 -3.43601272e-04 -1.28797774e-04 -2.60256129e-04\n",
      " -2.28020436e-04 -4.86108023e-04  1.61931966e-04 -5.97116438e-05\n",
      " -1.27958076e-04  2.16347504e-04 -3.12587277e-05 -1.49062422e-03\n",
      " -5.19395752e-04 -5.40018472e-04 -8.97873831e-05 -2.89768346e-04\n",
      " -2.95284935e-04 -5.85748277e-05 -4.81034143e-04 -2.78364682e-04\n",
      " -2.76458173e-04  4.96601243e-05 -2.13137299e-04 -1.40764271e-04\n",
      " -8.63677375e-04 -3.10678382e-04 -8.65857675e-04 -5.85722370e-04\n",
      " -2.76580200e-04 -1.01014518e-04 -3.67180910e-04 -6.21041589e-04\n",
      " -3.18791949e-04 -2.89244623e-04 -3.09569773e-04  2.71112427e-04\n",
      " -2.75671204e-04 -3.13796845e-04 -2.27197045e-04 -9.75717606e-05\n",
      "  2.55203493e-05 -1.39680227e-04 -4.45693979e-04 -6.34995629e-04\n",
      " -5.36454150e-04 -2.27905381e-04 -4.51051880e-04  3.63587297e-05\n",
      "  3.69289501e-04 -6.54159745e-04 -6.19232793e-04 -3.46060877e-04\n",
      "  5.30698234e-05 -1.01113472e-04 -1.11797074e-04  5.78392716e-05\n",
      " -1.16150198e-04 -4.78300020e-04 -1.67444423e-04 -6.38685417e-04\n",
      " -4.23961576e-05 -3.49295424e-04  1.98539896e-04 -4.26539949e-04\n",
      " -6.34607502e-05  9.62264511e-05 -1.20840883e-03 -2.44012247e-04\n",
      " -5.84799617e-05 -4.78491292e-04 -4.34526736e-04  1.20699994e-04\n",
      " -8.95447033e-05 -6.27758867e-04 -5.37205481e-04 -4.34077853e-04\n",
      " -4.55633500e-04  3.46813759e-05  8.07536224e-05 -4.30745133e-05\n",
      "  1.73364461e-04 -5.61761841e-04 -3.50653191e-04 -2.64398024e-04\n",
      " -4.60262401e-04 -3.15120533e-04 -4.84710067e-04 -8.00259831e-04\n",
      " -9.36861786e-04  9.80406497e-04 -5.49103521e-04  4.99947402e-04\n",
      " -3.95023064e-04 -6.99754413e-04  6.85389214e-05 -6.00299437e-04\n",
      " -8.56179413e-04 -1.79545898e-04 -5.83501139e-04 -7.71787154e-04\n",
      " -6.51083710e-05 -6.07483742e-04 -1.63186559e-04 -8.56167081e-04\n",
      " -4.90555507e-04 -8.71476220e-04 -3.48245223e-04  8.45548508e-05\n",
      "  1.81303550e-04 -3.04866439e-04 -8.20870660e-04 -7.87455479e-04\n",
      " -2.11296069e-05 -6.68107014e-04  5.50448427e-06 -5.72778556e-04\n",
      " -7.06811306e-04 -5.39348811e-04  2.85383258e-04 -8.93063590e-04\n",
      " -2.78145641e-04  1.73900291e-05 -2.27030015e-04 -2.36515911e-05\n",
      " -1.29476868e-04 -2.79025141e-04  5.12684538e-04 -3.33589697e-05\n",
      " -5.11374302e-04  6.51307795e-05  1.02892383e-03 -6.36501814e-04\n",
      " -3.18850242e-04 -5.15108903e-04 -2.27478365e-04 -4.67911560e-04\n",
      " -1.04185094e-03 -3.33728683e-05  7.53028126e-05 -3.34261781e-04\n",
      " -7.69242917e-04 -3.65726246e-04  2.56856384e-05 -4.32649737e-04\n",
      " -2.87320066e-04 -4.37703370e-05 -5.41345631e-04 -5.46829970e-04\n",
      " -2.44424052e-04 -3.82314211e-04 -2.71512620e-05 -5.64019237e-04\n",
      " -3.98037879e-04 -9.23778499e-04 -8.66321043e-04 -8.98953724e-04\n",
      "  6.83854125e-02 -2.18838127e-04 -8.06796944e-04 -2.94983561e-04\n",
      " -5.30878198e-04 -3.77065387e-04  1.42794035e-05 -1.03274778e-04\n",
      "  3.62232535e-01 -4.11045849e-04 -3.12358041e-04 -5.96714260e-04\n",
      " -7.32085879e-04 -2.54411177e-04 -1.39744741e-03 -7.65148509e-04\n",
      " -6.22375194e-05 -4.47840309e-04  9.08707774e-05  3.52731695e-06\n",
      " -3.82307844e-04  2.10159642e-05  5.53017306e-04 -4.08557359e-04\n",
      " -1.82764279e-05 -6.77357573e-04 -2.61748136e-04 -2.57273210e-04\n",
      " -2.34542964e-05 -1.67514497e-04 -8.26731308e-05 -1.13818613e-03\n",
      "  3.32554187e-04 -1.13176048e-03 -9.66425587e-05 -3.60051510e-04\n",
      " -3.15374369e-04  2.68898622e-04 -5.51534693e-04 -1.66716288e-04\n",
      " -3.04039898e-04 -2.29452669e-04  1.20998835e-03 -5.67923747e-04\n",
      " -7.38549049e-04 -5.49131895e-04 -6.22224109e-05 -1.39481455e-04\n",
      " -3.82230156e-05 -1.81234598e-04 -7.34553977e-04 -2.68795821e-04\n",
      " -1.60187786e-04 -1.65162994e-05 -5.55385522e-04 -3.46546562e-04\n",
      "  8.06499680e-05 -5.29089942e-05 -7.39280356e-04 -5.95513359e-04\n",
      " -4.74478431e-04  1.47877622e-04 -5.66736680e-04 -3.52356223e-04\n",
      " -2.64240891e-05 -1.38360047e-04 -5.27182281e-04 -3.36982921e-04\n",
      " -5.28625863e-04 -4.51522815e-04 -6.65483406e-04 -7.79250579e-04\n",
      " -9.91791633e-05 -6.30593697e-04 -3.27533937e-04 -2.88417104e-04\n",
      "  8.77279670e-05 -1.64380749e-04 -7.96697586e-04  3.28935702e-04\n",
      " -1.74882840e-04  8.21813371e-05 -2.28906639e-04 -2.20716231e-04\n",
      " -2.22831771e-04 -1.33609705e-04 -5.50309874e-04 -2.95693441e-04\n",
      " -2.66259449e-04 -4.15105753e-05 -2.36547363e-04 -2.29239026e-04\n",
      "  1.11373243e-04 -5.96414286e-04 -2.25601887e-06 -2.86430870e-04\n",
      " -2.21346956e-04 -5.34983840e-04 -6.99866550e-05  7.70228185e-05\n",
      " -1.30136505e-03 -4.25414824e-04 -5.80460998e-04  1.31873184e-04\n",
      " -2.89102105e-04 -1.01078707e-03 -4.32056666e-04 -3.63778979e-04\n",
      " -6.35509107e-04 -9.04645564e-04 -9.87179695e-05  1.59472228e-04\n",
      " -2.13350241e-04 -6.32377004e-04 -3.82055598e-04 -3.22599525e-04\n",
      " -1.27434737e-04 -5.63209804e-04 -1.07120312e-03 -2.79949236e-04\n",
      " -2.65560202e-04  3.66593237e-04 -1.38468728e-04 -5.00515812e-04\n",
      " -3.65082753e-05 -6.33952802e-05 -9.41229870e-04 -2.18758445e-04\n",
      "  2.88856977e-04 -2.00874154e-04  2.51678653e-04 -5.77947226e-04\n",
      " -2.20449886e-04 -5.41181762e-04  1.29607353e-04 -5.84286476e-04\n",
      " -1.09123325e-04 -2.94513594e-04 -7.26022007e-04 -3.33434708e-04\n",
      " -4.64299677e-04  1.55302228e-05 -6.94040220e-06 -5.54843715e-04\n",
      " -6.80605214e-04 -3.41869932e-05 -3.11244734e-04 -2.36648527e-04\n",
      " -1.58715268e-03 -2.41946622e-04 -2.04206160e-04 -6.10330934e-04\n",
      " -4.48204668e-04 -4.20376303e-04 -2.25024467e-04 -2.61699903e-04\n",
      "  1.77787140e-04 -6.29055264e-04  3.02222778e-04 -1.87664585e-04\n",
      " -4.61144810e-04  4.35189305e-05 -2.66551659e-04 -3.47078884e-04\n",
      " -1.30893365e-04 -4.90295800e-04 -2.62800600e-04 -9.15229435e-01\n",
      " -7.32557127e-06 -2.91840038e-03  2.25728057e-04 -1.00005426e-04\n",
      " -2.69542841e-04 -5.63635634e-04 -2.38172715e-04 -2.47393610e-05\n",
      " -2.35483056e-04 -7.78423095e-04 -2.34829784e-04 -3.08382707e-04\n",
      " -6.57553256e-05  5.14611398e-04 -5.83577001e-05 -3.13302295e-04\n",
      "  2.44311706e-04  4.04267767e-04 -3.34498014e-04 -3.32504699e-04\n",
      " -1.17939785e-04  1.26013402e-04  2.83334714e-05 -4.36760245e-04\n",
      " -1.54805290e-04 -2.46375970e-04 -2.44056907e-04 -4.36441538e-05\n",
      " -6.46273091e-04 -5.34872334e-04 -1.52923137e-04 -6.18898844e-04\n",
      " -3.89808381e-04 -8.82017064e-04  2.82366823e-04 -4.35122875e-04\n",
      " -5.69166710e-04  1.81922439e-05 -5.78296298e-04  3.79114601e-04\n",
      "  4.25228710e-06 -6.35275279e-04 -1.46469861e-04 -4.74202544e-04\n",
      "  1.08976048e-04 -3.72254720e-05 -5.22484400e-04 -8.49103621e-04]\n",
      "\n",
      "Weights for the 2nd Principal Component:\n",
      "[ 1.39897717e-04 -4.99439736e-04 -9.12127066e-04 -7.55719896e-05\n",
      "  1.85040472e-04 -1.87631627e-04  5.64087040e-04  1.29482902e-04\n",
      " -3.24393792e-04 -1.43050320e-03  4.17158984e-04 -2.87004783e-04\n",
      "  1.98560628e-05  1.87661885e-03 -4.01261219e-04  1.20454575e-03\n",
      " -9.51730711e-04 -2.03716495e-03 -6.92138702e-04  2.04489795e-04\n",
      " -5.80324853e-04  7.34977761e-04 -8.25595533e-04 -5.80570432e-05\n",
      " -7.65748390e-04 -5.47418667e-04 -1.01539588e-03 -5.84230535e-05\n",
      " -3.45619246e-04 -7.80805550e-04  1.95423572e-05  7.42949914e-04\n",
      " -8.00260531e-04 -1.63476073e-04  6.72227622e-04 -1.31090439e-03\n",
      " -1.52565408e-03  4.30865147e-04 -6.38943190e-04  1.25868661e-04\n",
      "  2.37319330e-04 -1.02600826e-03  1.09326526e-04 -1.11741001e-03\n",
      " -6.84699561e-04  7.66143898e-05 -8.68949456e-04 -1.26443744e-03\n",
      "  1.95651754e-03  6.11488428e-04 -4.20186793e-04 -9.15580811e-04\n",
      " -2.84875850e-04 -1.18187487e-03  7.32880646e-05 -3.60669431e-04\n",
      " -6.66358212e-04 -5.98510942e-05 -1.67351170e-04 -7.21975969e-04\n",
      " -9.51554038e-04  4.79787498e-04 -5.56173099e-04  2.49483654e-04\n",
      "  5.84826570e-04 -8.60734533e-01 -3.47704361e-04 -3.55767109e-04\n",
      " -2.71763739e-04 -3.01307043e-04 -7.63813685e-04 -5.71441963e-04\n",
      " -9.03507823e-04 -6.39451099e-05  4.46916857e-04  7.13775588e-04\n",
      "  1.10117607e-03 -5.90322064e-04 -8.75751542e-04 -1.61379676e-03\n",
      " -4.35525227e-04 -2.00439985e-03 -3.74562421e-04 -4.51696051e-04\n",
      " -1.17203368e-03 -7.20331281e-04 -2.50177540e-04  5.73505176e-04\n",
      " -8.04946727e-04 -5.68575280e-04 -3.20362661e-04  1.08368473e-04\n",
      "  2.76700667e-03  8.49602369e-04 -6.15781717e-04 -6.05464806e-04\n",
      " -1.90892681e-04 -9.05572834e-04 -8.68550559e-04 -2.55185941e-04\n",
      " -1.05334316e-03  7.06515614e-04  7.56352932e-04 -5.50537747e-04\n",
      " -3.90357194e-04 -1.83248922e-03 -5.21477293e-04  4.94975531e-04\n",
      " -8.75205497e-04  4.83954223e-04 -6.32836364e-04 -2.51192541e-04\n",
      " -1.62846647e-03 -1.46527298e-04  2.05657368e-04  1.04069907e-03\n",
      "  6.75852791e-04  3.14653595e-05 -4.01952514e-04 -3.52093534e-05\n",
      " -2.01332975e-05  4.69253554e-06 -1.09672886e-03 -2.72585073e-04\n",
      " -1.33167607e-03  7.96664338e-05 -1.09684099e-04 -1.37644427e-04\n",
      " -1.02964874e-03 -2.06436692e-04  1.83147590e-04 -1.52339207e-03\n",
      "  1.27167706e-03 -6.62943824e-04 -8.11023875e-06 -1.08916815e-03\n",
      " -2.72461974e-04 -6.81687041e-04 -1.81053236e-03  6.47191820e-04\n",
      " -2.83218270e-06  1.80661119e-04  2.82764756e-04  3.44834625e-04\n",
      "  9.73228350e-06 -4.93004790e-04 -3.42485690e-04  9.32050266e-05\n",
      " -1.21537114e-03 -3.06420740e-04 -1.34971879e-03  3.98042914e-05\n",
      " -4.79421806e-04  6.30644447e-04 -5.45887373e-04 -5.28453604e-04\n",
      " -9.45166853e-04 -1.20346802e-04 -5.48660790e-04  1.29783981e-03\n",
      "  5.52112686e-04 -3.83217377e-04 -4.83116068e-04  2.23954067e-04\n",
      "  2.67113541e-04 -7.48086433e-05 -1.57312095e-03 -8.77385473e-05\n",
      "  1.35044826e-04 -6.67059520e-04 -1.19867126e-03 -1.79272767e-04\n",
      " -2.71765177e-04 -7.69439599e-04 -9.43085306e-04  3.15418350e-05\n",
      " -7.47575953e-04  6.43423876e-04  1.57319334e-04 -1.14549838e-03\n",
      "  4.41343573e-04 -6.64041940e-04 -1.80659215e-04 -3.99542164e-04\n",
      "  8.97545549e-04 -5.12579727e-04 -9.18288328e-04  1.71943863e-04\n",
      "  5.72304931e-04  4.37102528e-04  1.08786062e-04 -1.09083729e-03\n",
      "  4.07615103e-04 -9.19363609e-04 -5.74937504e-05 -2.31872529e-04\n",
      " -2.89479330e-03  1.76188506e-03 -4.24227872e-04 -3.37987807e-04\n",
      " -1.26196623e-04  6.45863173e-04 -1.23605089e-03 -9.11718562e-04\n",
      " -3.36190746e-04 -8.67960302e-04 -3.79558983e-04 -1.04205300e-03\n",
      " -2.78487977e-04  2.90653390e-04 -3.80295273e-05  1.46409225e-03\n",
      " -6.25197602e-04 -3.32034671e-05 -5.97887708e-04 -4.90545802e-04\n",
      " -1.58321516e-03 -9.10800165e-04 -3.59644132e-04 -5.76231285e-04\n",
      " -6.28192748e-04  1.25356535e-03 -8.22305134e-04 -4.32800585e-04\n",
      " -6.21962607e-04 -7.55357527e-04 -2.56658858e-03  1.52802689e-03\n",
      " -1.56740033e-03 -7.08402418e-04 -1.60315985e-03 -1.76009714e-05\n",
      " -2.38610671e-04 -1.16247261e-03 -3.35173914e-04 -8.01115334e-04\n",
      " -5.42351943e-04 -4.32670736e-05 -6.22235999e-04 -6.10974697e-04\n",
      " -9.21366206e-04 -1.43384360e-03 -2.35979695e-04 -1.35962738e-03\n",
      "  8.16900256e-04 -1.17283542e-03 -5.46951366e-04  6.18206875e-04\n",
      " -5.18442778e-04 -4.94322590e-04  5.63943803e-04 -4.50312907e-04\n",
      " -2.17203886e-04  4.99195047e-04 -3.01040174e-04  1.29324344e-03\n",
      "  4.70411150e-02  2.61213178e-05 -1.14205387e-03 -6.43186187e-04\n",
      " -1.42460793e-04 -3.76388737e-04 -1.33344368e-03 -1.86570909e-04\n",
      "  3.97771545e-01 -3.45725626e-04 -3.78590354e-04  6.33775889e-04\n",
      " -1.86101561e-03 -7.43608783e-04  1.73344145e-03  3.32886109e-03\n",
      " -2.75380083e-04  8.39114521e-04 -6.40024604e-04 -4.57475590e-04\n",
      " -4.59799536e-04 -1.72912956e-03 -1.16135068e-03 -4.50682163e-04\n",
      " -9.01522428e-04 -7.92700532e-04 -1.70601297e-04  1.14055774e-04\n",
      " -1.37497583e-03 -1.08221186e-03 -3.30853137e-04 -9.78248479e-04\n",
      " -6.62741924e-04 -5.24241979e-04  1.94672614e-04 -7.27952249e-04\n",
      "  4.09100876e-04 -2.26967481e-04  9.57584458e-04 -1.18060141e-03\n",
      "  8.23834896e-04 -6.17126012e-04 -2.89634670e-03 -7.42409469e-04\n",
      "  1.08086396e-03  4.95611080e-04 -2.64895969e-05  1.54423301e-05\n",
      " -6.29622738e-04  6.77805391e-04  6.68211942e-04 -1.63481479e-04\n",
      " -7.31626922e-05  3.20135765e-04 -4.39525315e-04 -7.86749485e-04\n",
      " -8.80509080e-06 -1.10027018e-03  5.24880421e-04 -1.81109056e-04\n",
      " -1.24205758e-03 -2.25086473e-04  5.29288276e-04 -5.56816280e-04\n",
      "  8.52844851e-04 -1.64809439e-04 -9.43271150e-04 -6.92507586e-04\n",
      "  5.94547955e-04 -6.18681400e-04 -8.40061390e-04 -1.09322706e-03\n",
      " -1.12758746e-03  1.66539433e-03  1.20790941e-03 -6.27984810e-04\n",
      "  1.06802826e-04 -8.16230534e-06 -4.97335058e-04 -5.00911308e-04\n",
      " -1.30110721e-04  6.25627615e-05  1.45474039e-04 -4.10175073e-04\n",
      " -1.47052630e-04 -4.21370044e-04 -7.90844872e-04 -1.77600078e-04\n",
      " -5.74436820e-04  4.03009859e-04  8.89652697e-05 -1.07162969e-03\n",
      " -1.08459105e-03 -9.25302801e-04  1.99714895e-04 -1.01213735e-03\n",
      " -5.48888170e-04 -8.59199452e-04 -1.54031658e-04 -3.39850196e-05\n",
      " -1.33571383e-04  1.92718697e-03  1.83624199e-03  2.21313481e-05\n",
      "  2.97341781e-04  3.95821927e-04  1.40462661e-03 -1.12105526e-03\n",
      " -1.13375922e-04 -2.05716493e-03 -7.42700021e-04 -1.00815304e-03\n",
      " -8.99813657e-04 -5.68218265e-04 -6.15382836e-04 -8.11560156e-04\n",
      " -9.74028532e-04  1.19615083e-03  1.16268960e-04  1.93770465e-04\n",
      " -6.63843256e-04 -1.33482692e-03 -4.34962816e-05  1.07827826e-03\n",
      " -6.23453669e-04  8.41040383e-05 -2.41283763e-03  2.71375879e-04\n",
      "  3.79784670e-05  6.28931859e-05 -2.91569929e-04 -8.00173734e-04\n",
      "  4.50526603e-04 -8.44276636e-04 -1.58398344e-05 -2.05697906e-03\n",
      "  1.48220446e-03  9.63819228e-04 -1.37279307e-03 -1.02494081e-03\n",
      " -6.21158567e-04 -3.51487914e-04 -6.42504681e-04 -1.63112875e-03\n",
      " -6.72794648e-04 -4.69944574e-04  3.67271617e-04 -7.79232210e-04\n",
      "  2.22772793e-03 -9.24432555e-04 -5.43662254e-04 -2.57801627e-04\n",
      " -5.70714597e-04 -1.01326876e-03  3.34430978e-04  4.61759890e-04\n",
      " -9.60170313e-04 -7.79107377e-04  5.21271444e-04 -1.11452783e-04\n",
      " -1.50229570e-03  6.08045500e-04 -3.10111458e-04 -2.93239928e-04\n",
      " -4.14075164e-04  4.62023717e-04 -4.17540585e-04  3.13635871e-01\n",
      " -9.26131473e-04  6.05365988e-04 -4.91590501e-04  4.93139121e-05\n",
      "  7.61960109e-04 -7.15856545e-04 -1.34714790e-04 -1.81374045e-04\n",
      " -1.05359873e-03  9.64432510e-04 -9.72313721e-04 -1.05977020e-03\n",
      " -3.73481618e-04  3.69186229e-04 -6.45805078e-04 -9.19616279e-04\n",
      " -4.63500209e-04  1.19683508e-04 -5.02279840e-04 -2.97565250e-04\n",
      " -5.38382257e-04 -5.75915304e-04  1.99122889e-03 -2.64173262e-04\n",
      "  1.52048423e-04 -1.12466465e-03 -5.21623577e-05 -1.01947303e-03\n",
      " -6.20131614e-04 -3.03769393e-04  8.51518505e-05 -5.48929194e-04\n",
      " -1.58110943e-04  4.73516196e-04  1.52608247e-03  1.57272627e-03\n",
      " -8.16627830e-04 -5.44490343e-04 -1.42377418e-03 -8.74396038e-04\n",
      " -7.31667028e-04 -4.11347535e-04  3.59848648e-04 -1.69632785e-04\n",
      "  3.30441931e-04 -1.03882348e-03  1.81685165e-04 -6.28714349e-04]\n"
     ]
    }
   ],
   "source": [
    "\n",
    "# Extract weights for the 1st and 2nd principal components\n",
    "weights_1st_pc = pca.components_[0]\n",
    "weights_2nd_pc = pca.components_[1]\n",
    "\n",
    "# Display the extracted weights\n",
    "print(\"Weights for the 1st Principal Component:\")\n",
    "print(weights_1st_pc)\n",
    "\n",
    "print(\"\\nWeights for the 2nd Principal Component:\")\n",
    "print(weights_2nd_pc)\n"
   ]
  },
  {
   "cell_type": "code",
   "execution_count": 48,
   "id": "6c080fb6",
   "metadata": {},
   "outputs": [
    {
     "name": "stdout",
     "output_type": "stream",
     "text": [
      "Weights for the 1st Principal Component:\n",
      "[-6.52958219e-05 -2.53387429e-04 -4.24236405e-04  7.08630000e-05\n",
      " -2.84353638e-04 -5.72742531e-04  4.76103186e-05 -3.91482729e-04\n",
      " -4.58516379e-04 -6.22971645e-04 -9.66593019e-04 -1.89841894e-04\n",
      " -1.46157149e-04 -1.15272668e-03 -1.72101978e-04 -4.69836070e-04\n",
      " -6.97035033e-04  8.32321894e-04 -2.84547331e-04 -3.45611309e-04\n",
      "  2.36186756e-04  5.60980905e-06 -6.04004658e-04  1.87934093e-04\n",
      " -3.60562250e-04 -8.37261638e-04 -1.43220004e-04 -5.86378728e-04\n",
      "  7.50636633e-05  4.96997184e-04 -9.87677906e-05 -2.94175219e-04\n",
      " -6.47699090e-05 -1.48635132e-04 -7.82849938e-04  3.27634262e-04\n",
      "  1.33994281e-03  3.81755454e-04 -5.37735250e-04 -1.64836614e-04\n",
      " -1.07097001e-03  5.44785721e-05  1.24784502e-04 -1.18709351e-04\n",
      " -2.47603632e-04 -2.02252044e-04  2.30106103e-04 -9.28029544e-05\n",
      " -1.63860226e-03 -5.88323867e-04 -1.89188616e-04 -7.00963639e-04\n",
      " -6.55289355e-04  6.86455810e-05 -1.94796859e-04 -3.93556165e-04\n",
      " -7.39503061e-05 -4.63155720e-04 -1.60237735e-04 -2.80079866e-04\n",
      "  8.22228726e-04 -2.05257968e-04  3.48586848e-04 -5.34860615e-04\n",
      "  1.01551425e-05 -1.62335723e-01 -5.76080359e-04  1.97832733e-04\n",
      " -5.47527882e-04  1.35772818e-04 -1.04460795e-03 -3.04694534e-04\n",
      " -5.29142936e-04 -4.00419190e-04  1.80206501e-04  7.46805125e-05\n",
      " -5.76704317e-04 -3.06553293e-05 -5.26865214e-04 -1.20288284e-04\n",
      " -4.91848937e-04 -6.16809091e-04 -1.14245978e-03 -1.90012213e-04\n",
      " -7.96976027e-04 -2.08420187e-04  1.36267971e-04 -1.44651401e-04\n",
      " -2.99222095e-04 -1.48088807e-05 -1.04565086e-04 -3.84807890e-04\n",
      " -3.02742157e-04  1.36570437e-05 -1.78357495e-04 -9.85613058e-05\n",
      " -2.58116320e-04 -2.34941871e-04  4.04210140e-05 -1.38795420e-03\n",
      " -4.22499618e-04 -3.43601272e-04 -1.28797774e-04 -2.60256129e-04\n",
      " -2.28020436e-04 -4.86108023e-04  1.61931966e-04 -5.97116438e-05\n",
      " -1.27958076e-04  2.16347504e-04 -3.12587277e-05 -1.49062422e-03\n",
      " -5.19395752e-04 -5.40018472e-04 -8.97873831e-05 -2.89768346e-04\n",
      " -2.95284935e-04 -5.85748277e-05 -4.81034143e-04 -2.78364682e-04\n",
      " -2.76458173e-04  4.96601243e-05 -2.13137299e-04 -1.40764271e-04\n",
      " -8.63677375e-04 -3.10678382e-04 -8.65857675e-04 -5.85722370e-04\n",
      " -2.76580200e-04 -1.01014518e-04 -3.67180910e-04 -6.21041589e-04\n",
      " -3.18791949e-04 -2.89244623e-04 -3.09569773e-04  2.71112427e-04\n",
      " -2.75671204e-04 -3.13796845e-04 -2.27197045e-04 -9.75717606e-05\n",
      "  2.55203493e-05 -1.39680227e-04 -4.45693979e-04 -6.34995629e-04\n",
      " -5.36454150e-04 -2.27905381e-04 -4.51051880e-04  3.63587297e-05\n",
      "  3.69289501e-04 -6.54159745e-04 -6.19232793e-04 -3.46060877e-04\n",
      "  5.30698234e-05 -1.01113472e-04 -1.11797074e-04  5.78392716e-05\n",
      " -1.16150198e-04 -4.78300020e-04 -1.67444423e-04 -6.38685417e-04\n",
      " -4.23961576e-05 -3.49295424e-04  1.98539896e-04 -4.26539949e-04\n",
      " -6.34607502e-05  9.62264511e-05 -1.20840883e-03 -2.44012247e-04\n",
      " -5.84799617e-05 -4.78491292e-04 -4.34526736e-04  1.20699994e-04\n",
      " -8.95447033e-05 -6.27758867e-04 -5.37205481e-04 -4.34077853e-04\n",
      " -4.55633500e-04  3.46813759e-05  8.07536224e-05 -4.30745133e-05\n",
      "  1.73364461e-04 -5.61761841e-04 -3.50653191e-04 -2.64398024e-04\n",
      " -4.60262401e-04 -3.15120533e-04 -4.84710067e-04 -8.00259831e-04\n",
      " -9.36861786e-04  9.80406497e-04 -5.49103521e-04  4.99947402e-04\n",
      " -3.95023064e-04 -6.99754413e-04  6.85389214e-05 -6.00299437e-04\n",
      " -8.56179413e-04 -1.79545898e-04 -5.83501139e-04 -7.71787154e-04\n",
      " -6.51083710e-05 -6.07483742e-04 -1.63186559e-04 -8.56167081e-04\n",
      " -4.90555507e-04 -8.71476220e-04 -3.48245223e-04  8.45548508e-05\n",
      "  1.81303550e-04 -3.04866439e-04 -8.20870660e-04 -7.87455479e-04\n",
      " -2.11296069e-05 -6.68107014e-04  5.50448427e-06 -5.72778556e-04\n",
      " -7.06811306e-04 -5.39348811e-04  2.85383258e-04 -8.93063590e-04\n",
      " -2.78145641e-04  1.73900291e-05 -2.27030015e-04 -2.36515911e-05\n",
      " -1.29476868e-04 -2.79025141e-04  5.12684538e-04 -3.33589697e-05\n",
      " -5.11374302e-04  6.51307795e-05  1.02892383e-03 -6.36501814e-04\n",
      " -3.18850242e-04 -5.15108903e-04 -2.27478365e-04 -4.67911560e-04\n",
      " -1.04185094e-03 -3.33728683e-05  7.53028126e-05 -3.34261781e-04\n",
      " -7.69242917e-04 -3.65726246e-04  2.56856384e-05 -4.32649737e-04\n",
      " -2.87320066e-04 -4.37703370e-05 -5.41345631e-04 -5.46829970e-04\n",
      " -2.44424052e-04 -3.82314211e-04 -2.71512620e-05 -5.64019237e-04\n",
      " -3.98037879e-04 -9.23778499e-04 -8.66321043e-04 -8.98953724e-04\n",
      "  6.83854125e-02 -2.18838127e-04 -8.06796944e-04 -2.94983561e-04\n",
      " -5.30878198e-04 -3.77065387e-04  1.42794035e-05 -1.03274778e-04\n",
      "  3.62232535e-01 -4.11045849e-04 -3.12358041e-04 -5.96714260e-04\n",
      " -7.32085879e-04 -2.54411177e-04 -1.39744741e-03 -7.65148509e-04\n",
      " -6.22375194e-05 -4.47840309e-04  9.08707774e-05  3.52731695e-06\n",
      " -3.82307844e-04  2.10159642e-05  5.53017306e-04 -4.08557359e-04\n",
      " -1.82764279e-05 -6.77357573e-04 -2.61748136e-04 -2.57273210e-04\n",
      " -2.34542964e-05 -1.67514497e-04 -8.26731308e-05 -1.13818613e-03\n",
      "  3.32554187e-04 -1.13176048e-03 -9.66425587e-05 -3.60051510e-04\n",
      " -3.15374369e-04  2.68898622e-04 -5.51534693e-04 -1.66716288e-04\n",
      " -3.04039898e-04 -2.29452669e-04  1.20998835e-03 -5.67923747e-04\n",
      " -7.38549049e-04 -5.49131895e-04 -6.22224109e-05 -1.39481455e-04\n",
      " -3.82230156e-05 -1.81234598e-04 -7.34553977e-04 -2.68795821e-04\n",
      " -1.60187786e-04 -1.65162994e-05 -5.55385522e-04 -3.46546562e-04\n",
      "  8.06499680e-05 -5.29089942e-05 -7.39280356e-04 -5.95513359e-04\n",
      " -4.74478431e-04  1.47877622e-04 -5.66736680e-04 -3.52356223e-04\n",
      " -2.64240891e-05 -1.38360047e-04 -5.27182281e-04 -3.36982921e-04\n",
      " -5.28625863e-04 -4.51522815e-04 -6.65483406e-04 -7.79250579e-04\n",
      " -9.91791633e-05 -6.30593697e-04 -3.27533937e-04 -2.88417104e-04\n",
      "  8.77279670e-05 -1.64380749e-04 -7.96697586e-04  3.28935702e-04\n",
      " -1.74882840e-04  8.21813371e-05 -2.28906639e-04 -2.20716231e-04\n",
      " -2.22831771e-04 -1.33609705e-04 -5.50309874e-04 -2.95693441e-04\n",
      " -2.66259449e-04 -4.15105753e-05 -2.36547363e-04 -2.29239026e-04\n",
      "  1.11373243e-04 -5.96414286e-04 -2.25601887e-06 -2.86430870e-04\n",
      " -2.21346956e-04 -5.34983840e-04 -6.99866550e-05  7.70228185e-05\n",
      " -1.30136505e-03 -4.25414824e-04 -5.80460998e-04  1.31873184e-04\n",
      " -2.89102105e-04 -1.01078707e-03 -4.32056666e-04 -3.63778979e-04\n",
      " -6.35509107e-04 -9.04645564e-04 -9.87179695e-05  1.59472228e-04\n",
      " -2.13350241e-04 -6.32377004e-04 -3.82055598e-04 -3.22599525e-04\n",
      " -1.27434737e-04 -5.63209804e-04 -1.07120312e-03 -2.79949236e-04\n",
      " -2.65560202e-04  3.66593237e-04 -1.38468728e-04 -5.00515812e-04\n",
      " -3.65082753e-05 -6.33952802e-05 -9.41229870e-04 -2.18758445e-04\n",
      "  2.88856977e-04 -2.00874154e-04  2.51678653e-04 -5.77947226e-04\n",
      " -2.20449886e-04 -5.41181762e-04  1.29607353e-04 -5.84286476e-04\n",
      " -1.09123325e-04 -2.94513594e-04 -7.26022007e-04 -3.33434708e-04\n",
      " -4.64299677e-04  1.55302228e-05 -6.94040220e-06 -5.54843715e-04\n",
      " -6.80605214e-04 -3.41869932e-05 -3.11244734e-04 -2.36648527e-04\n",
      " -1.58715268e-03 -2.41946622e-04 -2.04206160e-04 -6.10330934e-04\n",
      " -4.48204668e-04 -4.20376303e-04 -2.25024467e-04 -2.61699903e-04\n",
      "  1.77787140e-04 -6.29055264e-04  3.02222778e-04 -1.87664585e-04\n",
      " -4.61144810e-04  4.35189305e-05 -2.66551659e-04 -3.47078884e-04\n",
      " -1.30893365e-04 -4.90295800e-04 -2.62800600e-04 -9.15229435e-01\n",
      " -7.32557127e-06 -2.91840038e-03  2.25728057e-04 -1.00005426e-04\n",
      " -2.69542841e-04 -5.63635634e-04 -2.38172715e-04 -2.47393610e-05\n",
      " -2.35483056e-04 -7.78423095e-04 -2.34829784e-04 -3.08382707e-04\n",
      " -6.57553256e-05  5.14611398e-04 -5.83577001e-05 -3.13302295e-04\n",
      "  2.44311706e-04  4.04267767e-04 -3.34498014e-04 -3.32504699e-04\n",
      " -1.17939785e-04  1.26013402e-04  2.83334714e-05 -4.36760245e-04\n",
      " -1.54805290e-04 -2.46375970e-04 -2.44056907e-04 -4.36441538e-05\n",
      " -6.46273091e-04 -5.34872334e-04 -1.52923137e-04 -6.18898844e-04\n",
      " -3.89808381e-04 -8.82017064e-04  2.82366823e-04 -4.35122875e-04\n",
      " -5.69166710e-04  1.81922439e-05 -5.78296298e-04  3.79114601e-04\n",
      "  4.25228710e-06 -6.35275279e-04 -1.46469861e-04 -4.74202544e-04\n",
      "  1.08976048e-04 -3.72254720e-05 -5.22484400e-04 -8.49103621e-04]\n"
     ]
    }
   ],
   "source": [
    "# Assuming pca is your fitted PCA model\n",
    "# Extract weights for the 1st and 2nd principal components\n",
    "weights_1st_pc = pca.components_[0]\n",
    "weights_2nd_pc = pca.components_[1]\n",
    "\n",
    "# Display the extracted weights\n",
    "print(\"Weights for the 1st Principal Component:\")\n",
    "print(weights_1st_pc)\n",
    "\n"
   ]
  },
  {
   "cell_type": "code",
   "execution_count": 46,
   "id": "8408c8ac",
   "metadata": {},
   "outputs": [
    {
     "name": "stdout",
     "output_type": "stream",
     "text": [
      "\n",
      "Weights for the 2nd Principal Component:\n",
      "[ 1.39897717e-04 -4.99439736e-04 -9.12127066e-04 -7.55719896e-05\n",
      "  1.85040472e-04 -1.87631627e-04  5.64087040e-04  1.29482902e-04\n",
      " -3.24393792e-04 -1.43050320e-03  4.17158984e-04 -2.87004783e-04\n",
      "  1.98560628e-05  1.87661885e-03 -4.01261219e-04  1.20454575e-03\n",
      " -9.51730711e-04 -2.03716495e-03 -6.92138702e-04  2.04489795e-04\n",
      " -5.80324853e-04  7.34977761e-04 -8.25595533e-04 -5.80570432e-05\n",
      " -7.65748390e-04 -5.47418667e-04 -1.01539588e-03 -5.84230535e-05\n",
      " -3.45619246e-04 -7.80805550e-04  1.95423572e-05  7.42949914e-04\n",
      " -8.00260531e-04 -1.63476073e-04  6.72227622e-04 -1.31090439e-03\n",
      " -1.52565408e-03  4.30865147e-04 -6.38943190e-04  1.25868661e-04\n",
      "  2.37319330e-04 -1.02600826e-03  1.09326526e-04 -1.11741001e-03\n",
      " -6.84699561e-04  7.66143898e-05 -8.68949456e-04 -1.26443744e-03\n",
      "  1.95651754e-03  6.11488428e-04 -4.20186793e-04 -9.15580811e-04\n",
      " -2.84875850e-04 -1.18187487e-03  7.32880646e-05 -3.60669431e-04\n",
      " -6.66358212e-04 -5.98510942e-05 -1.67351170e-04 -7.21975969e-04\n",
      " -9.51554038e-04  4.79787498e-04 -5.56173099e-04  2.49483654e-04\n",
      "  5.84826570e-04 -8.60734533e-01 -3.47704361e-04 -3.55767109e-04\n",
      " -2.71763739e-04 -3.01307043e-04 -7.63813685e-04 -5.71441963e-04\n",
      " -9.03507823e-04 -6.39451099e-05  4.46916857e-04  7.13775588e-04\n",
      "  1.10117607e-03 -5.90322064e-04 -8.75751542e-04 -1.61379676e-03\n",
      " -4.35525227e-04 -2.00439985e-03 -3.74562421e-04 -4.51696051e-04\n",
      " -1.17203368e-03 -7.20331281e-04 -2.50177540e-04  5.73505176e-04\n",
      " -8.04946727e-04 -5.68575280e-04 -3.20362661e-04  1.08368473e-04\n",
      "  2.76700667e-03  8.49602369e-04 -6.15781717e-04 -6.05464806e-04\n",
      " -1.90892681e-04 -9.05572834e-04 -8.68550559e-04 -2.55185941e-04\n",
      " -1.05334316e-03  7.06515614e-04  7.56352932e-04 -5.50537747e-04\n",
      " -3.90357194e-04 -1.83248922e-03 -5.21477293e-04  4.94975531e-04\n",
      " -8.75205497e-04  4.83954223e-04 -6.32836364e-04 -2.51192541e-04\n",
      " -1.62846647e-03 -1.46527298e-04  2.05657368e-04  1.04069907e-03\n",
      "  6.75852791e-04  3.14653595e-05 -4.01952514e-04 -3.52093534e-05\n",
      " -2.01332975e-05  4.69253554e-06 -1.09672886e-03 -2.72585073e-04\n",
      " -1.33167607e-03  7.96664338e-05 -1.09684099e-04 -1.37644427e-04\n",
      " -1.02964874e-03 -2.06436692e-04  1.83147590e-04 -1.52339207e-03\n",
      "  1.27167706e-03 -6.62943824e-04 -8.11023875e-06 -1.08916815e-03\n",
      " -2.72461974e-04 -6.81687041e-04 -1.81053236e-03  6.47191820e-04\n",
      " -2.83218270e-06  1.80661119e-04  2.82764756e-04  3.44834625e-04\n",
      "  9.73228350e-06 -4.93004790e-04 -3.42485690e-04  9.32050266e-05\n",
      " -1.21537114e-03 -3.06420740e-04 -1.34971879e-03  3.98042914e-05\n",
      " -4.79421806e-04  6.30644447e-04 -5.45887373e-04 -5.28453604e-04\n",
      " -9.45166853e-04 -1.20346802e-04 -5.48660790e-04  1.29783981e-03\n",
      "  5.52112686e-04 -3.83217377e-04 -4.83116068e-04  2.23954067e-04\n",
      "  2.67113541e-04 -7.48086433e-05 -1.57312095e-03 -8.77385473e-05\n",
      "  1.35044826e-04 -6.67059520e-04 -1.19867126e-03 -1.79272767e-04\n",
      " -2.71765177e-04 -7.69439599e-04 -9.43085306e-04  3.15418350e-05\n",
      " -7.47575953e-04  6.43423876e-04  1.57319334e-04 -1.14549838e-03\n",
      "  4.41343573e-04 -6.64041940e-04 -1.80659215e-04 -3.99542164e-04\n",
      "  8.97545549e-04 -5.12579727e-04 -9.18288328e-04  1.71943863e-04\n",
      "  5.72304931e-04  4.37102528e-04  1.08786062e-04 -1.09083729e-03\n",
      "  4.07615103e-04 -9.19363609e-04 -5.74937504e-05 -2.31872529e-04\n",
      " -2.89479330e-03  1.76188506e-03 -4.24227872e-04 -3.37987807e-04\n",
      " -1.26196623e-04  6.45863173e-04 -1.23605089e-03 -9.11718562e-04\n",
      " -3.36190746e-04 -8.67960302e-04 -3.79558983e-04 -1.04205300e-03\n",
      " -2.78487977e-04  2.90653390e-04 -3.80295273e-05  1.46409225e-03\n",
      " -6.25197602e-04 -3.32034671e-05 -5.97887708e-04 -4.90545802e-04\n",
      " -1.58321516e-03 -9.10800165e-04 -3.59644132e-04 -5.76231285e-04\n",
      " -6.28192748e-04  1.25356535e-03 -8.22305134e-04 -4.32800585e-04\n",
      " -6.21962607e-04 -7.55357527e-04 -2.56658858e-03  1.52802689e-03\n",
      " -1.56740033e-03 -7.08402418e-04 -1.60315985e-03 -1.76009714e-05\n",
      " -2.38610671e-04 -1.16247261e-03 -3.35173914e-04 -8.01115334e-04\n",
      " -5.42351943e-04 -4.32670736e-05 -6.22235999e-04 -6.10974697e-04\n",
      " -9.21366206e-04 -1.43384360e-03 -2.35979695e-04 -1.35962738e-03\n",
      "  8.16900256e-04 -1.17283542e-03 -5.46951366e-04  6.18206875e-04\n",
      " -5.18442778e-04 -4.94322590e-04  5.63943803e-04 -4.50312907e-04\n",
      " -2.17203886e-04  4.99195047e-04 -3.01040174e-04  1.29324344e-03\n",
      "  4.70411150e-02  2.61213178e-05 -1.14205387e-03 -6.43186187e-04\n",
      " -1.42460793e-04 -3.76388737e-04 -1.33344368e-03 -1.86570909e-04\n",
      "  3.97771545e-01 -3.45725626e-04 -3.78590354e-04  6.33775889e-04\n",
      " -1.86101561e-03 -7.43608783e-04  1.73344145e-03  3.32886109e-03\n",
      " -2.75380083e-04  8.39114521e-04 -6.40024604e-04 -4.57475590e-04\n",
      " -4.59799536e-04 -1.72912956e-03 -1.16135068e-03 -4.50682163e-04\n",
      " -9.01522428e-04 -7.92700532e-04 -1.70601297e-04  1.14055774e-04\n",
      " -1.37497583e-03 -1.08221186e-03 -3.30853137e-04 -9.78248479e-04\n",
      " -6.62741924e-04 -5.24241979e-04  1.94672614e-04 -7.27952249e-04\n",
      "  4.09100876e-04 -2.26967481e-04  9.57584458e-04 -1.18060141e-03\n",
      "  8.23834896e-04 -6.17126012e-04 -2.89634670e-03 -7.42409469e-04\n",
      "  1.08086396e-03  4.95611080e-04 -2.64895969e-05  1.54423301e-05\n",
      " -6.29622738e-04  6.77805391e-04  6.68211942e-04 -1.63481479e-04\n",
      " -7.31626922e-05  3.20135765e-04 -4.39525315e-04 -7.86749485e-04\n",
      " -8.80509080e-06 -1.10027018e-03  5.24880421e-04 -1.81109056e-04\n",
      " -1.24205758e-03 -2.25086473e-04  5.29288276e-04 -5.56816280e-04\n",
      "  8.52844851e-04 -1.64809439e-04 -9.43271150e-04 -6.92507586e-04\n",
      "  5.94547955e-04 -6.18681400e-04 -8.40061390e-04 -1.09322706e-03\n",
      " -1.12758746e-03  1.66539433e-03  1.20790941e-03 -6.27984810e-04\n",
      "  1.06802826e-04 -8.16230534e-06 -4.97335058e-04 -5.00911308e-04\n",
      " -1.30110721e-04  6.25627615e-05  1.45474039e-04 -4.10175073e-04\n",
      " -1.47052630e-04 -4.21370044e-04 -7.90844872e-04 -1.77600078e-04\n",
      " -5.74436820e-04  4.03009859e-04  8.89652697e-05 -1.07162969e-03\n",
      " -1.08459105e-03 -9.25302801e-04  1.99714895e-04 -1.01213735e-03\n",
      " -5.48888170e-04 -8.59199452e-04 -1.54031658e-04 -3.39850196e-05\n",
      " -1.33571383e-04  1.92718697e-03  1.83624199e-03  2.21313481e-05\n",
      "  2.97341781e-04  3.95821927e-04  1.40462661e-03 -1.12105526e-03\n",
      " -1.13375922e-04 -2.05716493e-03 -7.42700021e-04 -1.00815304e-03\n",
      " -8.99813657e-04 -5.68218265e-04 -6.15382836e-04 -8.11560156e-04\n",
      " -9.74028532e-04  1.19615083e-03  1.16268960e-04  1.93770465e-04\n",
      " -6.63843256e-04 -1.33482692e-03 -4.34962816e-05  1.07827826e-03\n",
      " -6.23453669e-04  8.41040383e-05 -2.41283763e-03  2.71375879e-04\n",
      "  3.79784670e-05  6.28931859e-05 -2.91569929e-04 -8.00173734e-04\n",
      "  4.50526603e-04 -8.44276636e-04 -1.58398344e-05 -2.05697906e-03\n",
      "  1.48220446e-03  9.63819228e-04 -1.37279307e-03 -1.02494081e-03\n",
      " -6.21158567e-04 -3.51487914e-04 -6.42504681e-04 -1.63112875e-03\n",
      " -6.72794648e-04 -4.69944574e-04  3.67271617e-04 -7.79232210e-04\n",
      "  2.22772793e-03 -9.24432555e-04 -5.43662254e-04 -2.57801627e-04\n",
      " -5.70714597e-04 -1.01326876e-03  3.34430978e-04  4.61759890e-04\n",
      " -9.60170313e-04 -7.79107377e-04  5.21271444e-04 -1.11452783e-04\n",
      " -1.50229570e-03  6.08045500e-04 -3.10111458e-04 -2.93239928e-04\n",
      " -4.14075164e-04  4.62023717e-04 -4.17540585e-04  3.13635871e-01\n",
      " -9.26131473e-04  6.05365988e-04 -4.91590501e-04  4.93139121e-05\n",
      "  7.61960109e-04 -7.15856545e-04 -1.34714790e-04 -1.81374045e-04\n",
      " -1.05359873e-03  9.64432510e-04 -9.72313721e-04 -1.05977020e-03\n",
      " -3.73481618e-04  3.69186229e-04 -6.45805078e-04 -9.19616279e-04\n",
      " -4.63500209e-04  1.19683508e-04 -5.02279840e-04 -2.97565250e-04\n",
      " -5.38382257e-04 -5.75915304e-04  1.99122889e-03 -2.64173262e-04\n",
      "  1.52048423e-04 -1.12466465e-03 -5.21623577e-05 -1.01947303e-03\n",
      " -6.20131614e-04 -3.03769393e-04  8.51518505e-05 -5.48929194e-04\n",
      " -1.58110943e-04  4.73516196e-04  1.52608247e-03  1.57272627e-03\n",
      " -8.16627830e-04 -5.44490343e-04 -1.42377418e-03 -8.74396038e-04\n",
      " -7.31667028e-04 -4.11347535e-04  3.59848648e-04 -1.69632785e-04\n",
      "  3.30441931e-04 -1.03882348e-03  1.81685165e-04 -6.28714349e-04]\n"
     ]
    }
   ],
   "source": [
    "\n",
    "print(\"\\nWeights for the 2nd Principal Component:\")\n",
    "print(weights_2nd_pc)"
   ]
  },
  {
   "cell_type": "markdown",
   "id": "c488d4e0",
   "metadata": {},
   "source": [
    "# 3. Create a plot to show weights of the 1st principal component grouped by the industry sector (for example, you may draw a bar plot of mean weight per sector). Observe the distribution of weights (magnitudes, signs). Based on your observation, what kind of information do you think the 1st principal component might have captured?"
   ]
  },
  {
   "cell_type": "code",
   "execution_count": 61,
   "id": "37dc02d6",
   "metadata": {},
   "outputs": [],
   "source": [
    "import matplotlib.pyplot as plt\n",
    "import pandas as pd\n",
    "import numpy as np\n",
    "\n",
    "# Assuming df_sp500_ticker contains the ticker information, including the 'sector' column\n",
    "# Assuming pca is your fitted PCA model\n",
    "\n",
    "# Extract weights for the 1st principal component\n",
    "weights_1st_pc = pca.components_[0]\n",
    "\n",
    "# Create a DataFrame with tickers and corresponding weights for the 1st principal component\n",
    "tickers = df_sp500_ticker['ticker'].values\n",
    "\n",
    "# Ensure lengths match or adjust to the minimum length\n",
    "min_length = min(len(tickers), len(weights_1st_pc))\n",
    "df_weights_1st_pc = pd.DataFrame({'Ticker': tickers[:min_length], 'Weight_1st_PC': weights_1st_pc[:min_length]})\n",
    "\n",
    "# Merge with sector information\n",
    "df_weights_sector = pd.merge(df_weights_1st_pc, df_sp500_ticker[['ticker', 'sector']], left_on='Ticker', right_on='ticker', how='left')\n",
    "\n",
    "# Group by sector and calculate the mean weight for the 1st principal component\n",
    "mean_weights_by_sector = df_weights_sector.groupby('sector')['Weight_1st_PC'].mean()\n",
    "\n",
    "# Plot bar plot\n",
    "#plt.figure(figsize=(12, 6))\n",
    "#mean_weights_by_sector.plot(kind='bar', color=np.where(mean_weights_by_sector > 0, 'b', 'r'))\n",
    "#plt.title('Mean Weights of the 1st Principal Component by Sector')\n",
    "#plt.xlabel('Industry Sector')\n",
    "#plt.ylabel('Mean Weight')\n",
    "#plt.show()\n"
   ]
  },
  {
   "cell_type": "code",
   "execution_count": 62,
   "id": "9525ca2f",
   "metadata": {},
   "outputs": [
    {
     "data": {
      "image/png": "[encoded data removed]",
      "text/plain": [
       "<Figure size 864x432 with 1 Axes>"
      ]
     },
     "metadata": {
      "needs_background": "light"
     },
     "output_type": "display_data"
    }
   ],
   "source": [
    "import seaborn as sns\n",
    "# Ensure the lengths match by considering only the relevant rows in df_sp500_ticker\n",
    "df_weights_pc1 = pd.DataFrame({'Sector': df_sp500_ticker['sector'].iloc[:len(weights_1st_pc)], 'Weight_PC1': weights_1st_pc})\n",
    "\n",
    "# Plot weights of the 1st principal component grouped by industry sector using seaborn\n",
    "plt.figure(figsize=(12, 6))\n",
    "sns.barplot(x='Sector', y='Weight_PC1', data=df_weights_pc1, ci=None, palette='viridis')\n",
    "plt.title('Weights of 1st Principal Component by Industry Sector')\n",
    "plt.xlabel('Industry Sector')\n",
    "plt.ylabel('Mean Weight')\n",
    "plt.xticks(rotation=45, ha='right')  # Rotate x-axis labels for better visibility\n",
    "plt.show()\n"
   ]
  },
  {
   "cell_type": "markdown",
   "id": "5415792e",
   "metadata": {},
   "source": [
    "# 4. Make a similar plot for the 2nd principal component.  What kind of information do you think does this component reveal? (Hint: look at the signs and magnitudes.)\n"
   ]
  },
  {
   "cell_type": "code",
   "execution_count": 70,
   "id": "ff3adb05",
   "metadata": {},
   "outputs": [
    {
     "name": "stdout",
     "output_type": "stream",
     "text": [
      "<class 'pandas.core.frame.DataFrame'>\n",
      "RangeIndex: 500 entries, 0 to 499\n",
      "Data columns (total 3 columns):\n",
      " #   Column        Non-Null Count  Dtype \n",
      "---  ------        --------------  ----- \n",
      " 0   ticker        500 non-null    object\n",
      " 1   company_name  500 non-null    object\n",
      " 2   sector        500 non-null    object\n",
      "dtypes: object(3)\n",
      "memory usage: 11.8+ KB\n"
     ]
    }
   ],
   "source": [
    "df_sp500_ticker.info()"
   ]
  },
  {
   "cell_type": "code",
   "execution_count": 74,
   "id": "c0c2130d",
   "metadata": {},
   "outputs": [
    {
     "data": {
      "image/png": "[encoded data removed]",
      "text/plain": [
       "<Figure size 864x576 with 1 Axes>"
      ]
     },
     "metadata": {
      "needs_background": "light"
     },
     "output_type": "display_data"
    }
   ],
   "source": [
    "# Assuming df_sp500_ticker contains the ticker information, including the 'sector' column\n",
    "# Assuming pca is your fitted PCA model\n",
    "\n",
    "# Extract weights for the 2nd principal component\n",
    "weights_2nd_pc = pca.components_[1]\n",
    "\n",
    "# Ensure lengths match or adjust to the minimum length\n",
    "min_length = min(len(tickers), len(weights_2nd_pc))\n",
    "df_weights_2nd_pc = pd.DataFrame({'Ticker': tickers[:min_length], 'Weight_2nd_PC': weights_2nd_pc[:min_length]})\n",
    "\n",
    "# Merge with sector information\n",
    "df_weights_sector_2nd_pc = pd.merge(df_weights_2nd_pc, df_sp500_ticker[['ticker', 'sector']], left_on='Ticker', right_on='ticker', how='left')\n",
    "\n",
    "# Group by sector and calculate the mean weight for the 2nd principal component\n",
    "mean_weights_by_sector_2nd_pc = df_weights_sector_2nd_pc.groupby('sector')['Weight_2nd_PC'].mean()\n",
    "\n",
    "# Plot weights of the 2nd principal component grouped by industry sector using seaborn\n",
    "plt.figure(figsize=(12, 8))\n",
    "sns.barplot(x='sector', y='Weight_2nd_PC', data=df_weights_sector_2nd_pc, ci=None, palette='viridis')\n",
    "plt.title('Weights of 2nd Principal Component by Industry Sector')\n",
    "plt.xlabel('Industry Sector')\n",
    "plt.ylabel('Mean Weight')\n",
    "plt.xticks(rotation=45, ha='right')  # Rotate x-axis labels for better visibility\n",
    "plt.show()\n"
   ]
  },
  {
   "cell_type": "markdown",
   "id": "fcce66ac",
   "metadata": {},
   "source": [
    "# 5. Suppose we wanted to construct a new stock index using one principal component to track the overall market tendencies. Which of the two components would you prefer to use for this purpose, the 1st or the 2nd? Why?"
   ]
  },
  {
   "cell_type": "markdown",
   "id": "caacfa88",
   "metadata": {},
   "source": [
    "-> In this the 1st Principal Component represents the dominant trend in stock returns, it explains the maximum variance among all the components which are suitable for reflecting market wide components and trends"
   ]
  },
  {
   "cell_type": "markdown",
   "id": "42a9a549",
   "metadata": {},
   "source": [
    "-> Coming to the 2nd Principal component, capturing independent variance adds the diversification by capturing sector specific movements. This also represents additional, uncorrelated information"
   ]
  },
  {
   "cell_type": "markdown",
   "id": "0f7b4180",
   "metadata": {},
   "source": [
    "-> The 1st principal compoment if preferred for closely tracking overall market tendencies, whereas the 2nd principal component is considered for diversification and capturing independent movements. "
   ]
  },
  {
   "cell_type": "code",
   "execution_count": null,
   "id": "b290c41b",
   "metadata": {},
   "outputs": [],
   "source": [
    "#Bonus"
   ]
  },
  {
   "cell_type": "code",
   "execution_count": 76,
   "id": "45629ff2",
   "metadata": {},
   "outputs": [
    {
     "name": "stdout",
     "output_type": "stream",
     "text": [
      "Collecting yfinance\n",
      "  Downloading yfinance-0.2.32-py2.py3-none-any.whl (68 kB)\n",
      "Note: you may need to restart the kernel to use updated packages.\n"
     ]
    },
    {
     "name": "stderr",
     "output_type": "stream",
     "text": [
      "ERROR: pip's dependency resolver does not currently take into account all the packages that are installed. This behaviour is the source of the following dependency conflicts.\n",
      "conda-repo-cli 1.0.4 requires pathlib, which is not installed.\n",
      "anaconda-project 0.10.1 requires ruamel-yaml, which is not installed.\n"
     ]
    },
    {
     "name": "stdout",
     "output_type": "stream",
     "text": [
      "Collecting peewee>=3.16.2\n",
      "  Downloading peewee-3.17.0.tar.gz (2.9 MB)\n",
      "  Installing build dependencies: started\n",
      "  Installing build dependencies: finished with status 'done'\n",
      "  Getting requirements to build wheel: started\n",
      "  Getting requirements to build wheel: finished with status 'done'\n",
      "    Preparing wheel metadata: started\n",
      "    Preparing wheel metadata: finished with status 'done'\n",
      "Collecting requests>=2.31\n",
      "  Downloading requests-2.31.0-py3-none-any.whl (62 kB)\n",
      "Collecting multitasking>=0.0.7\n",
      "  Downloading multitasking-0.0.11-py3-none-any.whl (8.5 kB)\n",
      "Collecting pytz>=2022.5\n",
      "  Downloading pytz-2023.3.post1-py2.py3-none-any.whl (502 kB)\n",
      "Collecting frozendict>=2.3.4\n",
      "  Downloading frozendict-2.3.9-cp39-cp39-win_amd64.whl (35 kB)\n",
      "Requirement already satisfied: numpy>=1.16.5 in c:\\users\\harsha\\anaconda3\\lib\\site-packages (from yfinance) (1.20.3)\n",
      "Collecting beautifulsoup4>=4.11.1\n",
      "  Downloading beautifulsoup4-4.12.2-py3-none-any.whl (142 kB)\n",
      "Requirement already satisfied: appdirs>=1.4.4 in c:\\users\\harsha\\anaconda3\\lib\\site-packages (from yfinance) (1.4.4)\n",
      "Collecting lxml>=4.9.1\n",
      "  Downloading lxml-4.9.3-cp39-cp39-win_amd64.whl (3.9 MB)\n",
      "Requirement already satisfied: html5lib>=1.1 in c:\\users\\harsha\\anaconda3\\lib\\site-packages (from yfinance) (1.1)\n",
      "Requirement already satisfied: pandas>=1.3.0 in c:\\users\\harsha\\anaconda3\\lib\\site-packages (from yfinance) (1.3.4)\n",
      "Requirement already satisfied: soupsieve>1.2 in c:\\users\\harsha\\anaconda3\\lib\\site-packages (from beautifulsoup4>=4.11.1->yfinance) (2.2.1)\n",
      "Requirement already satisfied: six>=1.9 in c:\\users\\harsha\\anaconda3\\lib\\site-packages (from html5lib>=1.1->yfinance) (1.16.0)\n",
      "Requirement already satisfied: webencodings in c:\\users\\harsha\\anaconda3\\lib\\site-packages (from html5lib>=1.1->yfinance) (0.5.1)\n",
      "Requirement already satisfied: python-dateutil>=2.7.3 in c:\\users\\harsha\\anaconda3\\lib\\site-packages (from pandas>=1.3.0->yfinance) (2.8.2)\n",
      "Requirement already satisfied: urllib3<3,>=1.21.1 in c:\\users\\harsha\\anaconda3\\lib\\site-packages (from requests>=2.31->yfinance) (1.26.7)\n",
      "Requirement already satisfied: idna<4,>=2.5 in c:\\users\\harsha\\anaconda3\\lib\\site-packages (from requests>=2.31->yfinance) (3.2)\n",
      "Requirement already satisfied: certifi>=2017.4.17 in c:\\users\\harsha\\anaconda3\\lib\\site-packages (from requests>=2.31->yfinance) (2023.7.22)\n",
      "Requirement already satisfied: charset-normalizer<4,>=2 in c:\\users\\harsha\\anaconda3\\lib\\site-packages (from requests>=2.31->yfinance) (2.0.4)\n",
      "Building wheels for collected packages: peewee\n",
      "  Building wheel for peewee (PEP 517): started\n",
      "  Building wheel for peewee (PEP 517): finished with status 'done'\n",
      "  Created wheel for peewee: filename=peewee-3.17.0-py3-none-any.whl size=135766 sha256=5b917eee6aa08c49725c5f1750fd6872ff38effb90b0517a328d083064319636\n",
      "  Stored in directory: c:\\users\\harsha\\appdata\\local\\pip\\cache\\wheels\\77\\6b\\dc\\722aee2a5d46a021ab67564c9d3d5536c3bd9577fcdc3a5aeb\n",
      "Successfully built peewee\n",
      "Installing collected packages: pytz, requests, peewee, multitasking, lxml, frozendict, beautifulsoup4, yfinance\n",
      "  Attempting uninstall: pytz\n",
      "    Found existing installation: pytz 2021.3\n",
      "    Uninstalling pytz-2021.3:\n",
      "      Successfully uninstalled pytz-2021.3\n",
      "  Attempting uninstall: requests\n",
      "    Found existing installation: requests 2.26.0\n",
      "    Uninstalling requests-2.26.0:\n",
      "      Successfully uninstalled requests-2.26.0\n",
      "  Attempting uninstall: lxml\n",
      "    Found existing installation: lxml 4.6.3\n",
      "    Uninstalling lxml-4.6.3:\n",
      "      Successfully uninstalled lxml-4.6.3\n",
      "  Attempting uninstall: beautifulsoup4\n",
      "    Found existing installation: beautifulsoup4 4.10.0\n",
      "    Uninstalling beautifulsoup4-4.10.0:\n",
      "      Successfully uninstalled beautifulsoup4-4.10.0\n",
      "Successfully installed beautifulsoup4-4.12.2 frozendict-2.3.9 lxml-4.9.3 multitasking-0.0.11 peewee-3.17.0 pytz-2023.3.post1 requests-2.31.0 yfinance-0.2.32\n"
     ]
    }
   ],
   "source": [
    "pip install yfinance\n"
   ]
  },
  {
   "cell_type": "code",
   "execution_count": 77,
   "id": "f84e3b36",
   "metadata": {},
   "outputs": [
    {
     "name": "stdout",
     "output_type": "stream",
     "text": [
      "[*********************100%%**********************]  3 of 3 completed\n",
      "                  AAPL       GOOGL        MSFT\n",
      "Date                                          \n",
      "2022-01-03  179.953888  144.991501  328.727661\n",
      "2022-01-04  177.669998  144.399506  323.090942\n",
      "2022-01-05  172.943970  137.774994  310.688141\n",
      "2022-01-06  170.056976  137.747498  308.233154\n",
      "2022-01-07  170.225052  137.016998  308.390228\n"
     ]
    }
   ],
   "source": [
    "import yfinance as yf\n",
    "import pandas as pd\n",
    "\n",
    "# Define the list of tickers you're interested in\n",
    "tickers = ['AAPL', 'GOOGL', 'MSFT']  # Add more if needed\n",
    "\n",
    "# Fetch historical stock prices\n",
    "df_stock_prices = yf.download(tickers, start='2022-01-01', end='2023-01-01')['Adj Close']\n",
    "\n",
    "# Print the first few rows of the data\n",
    "print(df_stock_prices.head())\n",
    "\n",
    "# Now you can proceed with the PCA analysis using the fetched data\n"
   ]
  },
  {
   "cell_type": "code",
   "execution_count": 82,
   "id": "c158ba28",
   "metadata": {},
   "outputs": [
    {
     "data": {
      "image/png": "[encoded data removed]",
      "text/plain": [
       "<Figure size 432x288 with 1 Axes>"
      ]
     },
     "metadata": {
      "needs_background": "light"
     },
     "output_type": "display_data"
    }
   ],
   "source": [
    "# Define the number of principal components you want to retain\n",
    "n_components = 2  # Adjust this value as needed\n",
    "\n",
    "# Assuming df_stock_prices contains the stock prices\n",
    "log_returns = np.log(df_stock_prices / df_stock_prices.shift(1)).dropna()\n",
    "standardized_returns = (log_returns - log_returns.mean()) / log_returns.std()\n",
    "from sklearn.decomposition import PCA\n",
    "\n",
    "# Instantiate PCA with the specified number of components\n",
    "pca = PCA(n_components=n_components)\n",
    "principal_components = pca.fit_transform(standardized_returns)\n",
    "explained_variance_ratio = pca.explained_variance_ratio_\n",
    "cumulative_variance_ratio = np.cumsum(explained_variance_ratio)\n",
    "plt.plot(range(1, len(cumulative_variance_ratio) + 1), cumulative_variance_ratio, marker='o', linestyle='--')\n",
    "plt.xlabel('Number of Principal Components')\n",
    "plt.ylabel('Cumulative Variance Ratio')\n",
    "plt.title('Cumulative Variance Explained by Principal Components')\n",
    "plt.show()\n"
   ]
  },
  {
   "cell_type": "markdown",
   "id": "9faa4e58",
   "metadata": {},
   "source": [
    "# Problem -2"
   ]
  },
  {
   "cell_type": "code",
   "execution_count": null,
   "id": "59ea67e0",
   "metadata": {},
   "outputs": [],
   "source": []
  },
  {
   "cell_type": "code",
   "execution_count": 84,
   "id": "c96c6788",
   "metadata": {},
   "outputs": [
    {
     "name": "stdout",
     "output_type": "stream",
     "text": [
      "Shape of the dataset:  (252, 14)\n"
     ]
    }
   ],
   "source": [
    "#Reading the bmi.csv file an dloading the dataset\n",
    "filepath_bmi=\"C:/Users/harsha/Desktop/DataMining_733/Homework3/BMI.csv\"\n",
    "df_bmi=pd.read_csv(filepath_bmi)\n",
    "#checking the shape of the dataset\n",
    "shape=df_bmi.shape\n",
    "print(\"Shape of the dataset: \",shape)"
   ]
  },
  {
   "cell_type": "code",
   "execution_count": 85,
   "id": "dc4354e2",
   "metadata": {},
   "outputs": [
    {
     "data": {
      "text/html": [
       "<div>\n",
       "<style scoped>\n",
       "    .dataframe tbody tr th:only-of-type {\n",
       "        vertical-align: middle;\n",
       "    }\n",
       "\n",
       "    .dataframe tbody tr th {\n",
       "        vertical-align: top;\n",
       "    }\n",
       "\n",
       "    .dataframe thead th {\n",
       "        text-align: right;\n",
       "    }\n",
       "</style>\n",
       "<table border=\"1\" class=\"dataframe\">\n",
       "  <thead>\n",
       "    <tr style=\"text-align: right;\">\n",
       "      <th></th>\n",
       "      <th>Age</th>\n",
       "      <th>Weight</th>\n",
       "      <th>Height</th>\n",
       "      <th>Neck</th>\n",
       "      <th>Chest</th>\n",
       "      <th>Abdomen</th>\n",
       "      <th>Hip</th>\n",
       "      <th>Thigh</th>\n",
       "      <th>Knee</th>\n",
       "      <th>Ankle</th>\n",
       "      <th>Biceps</th>\n",
       "      <th>Forearm</th>\n",
       "      <th>Wrist</th>\n",
       "      <th>fatpctg</th>\n",
       "    </tr>\n",
       "  </thead>\n",
       "  <tbody>\n",
       "    <tr>\n",
       "      <th>0</th>\n",
       "      <td>22</td>\n",
       "      <td>160.8</td>\n",
       "      <td>62.4</td>\n",
       "      <td>34.0</td>\n",
       "      <td>95.8</td>\n",
       "      <td>87.9</td>\n",
       "      <td>99.2</td>\n",
       "      <td>59.6</td>\n",
       "      <td>38.9</td>\n",
       "      <td>24.0</td>\n",
       "      <td>28.8</td>\n",
       "      <td>25.2</td>\n",
       "      <td>16.6</td>\n",
       "      <td>25.3</td>\n",
       "    </tr>\n",
       "    <tr>\n",
       "      <th>1</th>\n",
       "      <td>22</td>\n",
       "      <td>170.6</td>\n",
       "      <td>80.5</td>\n",
       "      <td>38.5</td>\n",
       "      <td>93.6</td>\n",
       "      <td>83.0</td>\n",
       "      <td>98.7</td>\n",
       "      <td>58.7</td>\n",
       "      <td>37.3</td>\n",
       "      <td>23.4</td>\n",
       "      <td>30.5</td>\n",
       "      <td>28.9</td>\n",
       "      <td>18.2</td>\n",
       "      <td>6.1</td>\n",
       "    </tr>\n",
       "    <tr>\n",
       "      <th>2</th>\n",
       "      <td>23</td>\n",
       "      <td>153.9</td>\n",
       "      <td>69.3</td>\n",
       "      <td>36.2</td>\n",
       "      <td>93.1</td>\n",
       "      <td>85.2</td>\n",
       "      <td>94.5</td>\n",
       "      <td>59.0</td>\n",
       "      <td>37.3</td>\n",
       "      <td>21.9</td>\n",
       "      <td>32.0</td>\n",
       "      <td>27.4</td>\n",
       "      <td>17.1</td>\n",
       "      <td>12.3</td>\n",
       "    </tr>\n",
       "    <tr>\n",
       "      <th>3</th>\n",
       "      <td>23</td>\n",
       "      <td>157.1</td>\n",
       "      <td>70.4</td>\n",
       "      <td>35.5</td>\n",
       "      <td>92.1</td>\n",
       "      <td>77.1</td>\n",
       "      <td>93.9</td>\n",
       "      <td>56.1</td>\n",
       "      <td>36.1</td>\n",
       "      <td>22.7</td>\n",
       "      <td>30.5</td>\n",
       "      <td>27.2</td>\n",
       "      <td>18.2</td>\n",
       "      <td>9.4</td>\n",
       "    </tr>\n",
       "    <tr>\n",
       "      <th>4</th>\n",
       "      <td>23</td>\n",
       "      <td>196.5</td>\n",
       "      <td>88.6</td>\n",
       "      <td>38.0</td>\n",
       "      <td>96.6</td>\n",
       "      <td>85.3</td>\n",
       "      <td>102.5</td>\n",
       "      <td>59.1</td>\n",
       "      <td>37.6</td>\n",
       "      <td>23.2</td>\n",
       "      <td>31.8</td>\n",
       "      <td>29.7</td>\n",
       "      <td>18.3</td>\n",
       "      <td>10.3</td>\n",
       "    </tr>\n",
       "  </tbody>\n",
       "</table>\n",
       "</div>"
      ],
      "text/plain": [
       "   Age  Weight  Height  Neck  Chest  Abdomen    Hip  Thigh  Knee  Ankle  \\\n",
       "0   22   160.8    62.4  34.0   95.8     87.9   99.2   59.6  38.9   24.0   \n",
       "1   22   170.6    80.5  38.5   93.6     83.0   98.7   58.7  37.3   23.4   \n",
       "2   23   153.9    69.3  36.2   93.1     85.2   94.5   59.0  37.3   21.9   \n",
       "3   23   157.1    70.4  35.5   92.1     77.1   93.9   56.1  36.1   22.7   \n",
       "4   23   196.5    88.6  38.0   96.6     85.3  102.5   59.1  37.6   23.2   \n",
       "\n",
       "   Biceps  Forearm  Wrist  fatpctg  \n",
       "0    28.8     25.2   16.6     25.3  \n",
       "1    30.5     28.9   18.2      6.1  \n",
       "2    32.0     27.4   17.1     12.3  \n",
       "3    30.5     27.2   18.2      9.4  \n",
       "4    31.8     29.7   18.3     10.3  "
      ]
     },
     "execution_count": 85,
     "metadata": {},
     "output_type": "execute_result"
    }
   ],
   "source": [
    "df_bmi.head()"
   ]
  },
  {
   "cell_type": "code",
   "execution_count": 86,
   "id": "35baf9f2",
   "metadata": {},
   "outputs": [
    {
     "name": "stdout",
     "output_type": "stream",
     "text": [
      "<class 'pandas.core.frame.DataFrame'>\n",
      "RangeIndex: 252 entries, 0 to 251\n",
      "Data columns (total 14 columns):\n",
      " #   Column   Non-Null Count  Dtype  \n",
      "---  ------   --------------  -----  \n",
      " 0   Age      252 non-null    int64  \n",
      " 1   Weight   252 non-null    float64\n",
      " 2   Height   252 non-null    float64\n",
      " 3   Neck     252 non-null    float64\n",
      " 4   Chest    252 non-null    float64\n",
      " 5   Abdomen  252 non-null    float64\n",
      " 6   Hip      252 non-null    float64\n",
      " 7   Thigh    252 non-null    float64\n",
      " 8   Knee     252 non-null    float64\n",
      " 9   Ankle    252 non-null    float64\n",
      " 10  Biceps   252 non-null    float64\n",
      " 11  Forearm  252 non-null    float64\n",
      " 12  Wrist    252 non-null    float64\n",
      " 13  fatpctg  252 non-null    float64\n",
      "dtypes: float64(13), int64(1)\n",
      "memory usage: 27.7 KB\n",
      "None\n"
     ]
    }
   ],
   "source": [
    "# Display information about the dataset\n",
    "print(df_bmi.info())"
   ]
  },
  {
   "cell_type": "code",
   "execution_count": 87,
   "id": "aaa16d22",
   "metadata": {},
   "outputs": [
    {
     "name": "stdout",
     "output_type": "stream",
     "text": [
      "Age        0\n",
      "Weight     0\n",
      "Height     0\n",
      "Neck       0\n",
      "Chest      0\n",
      "Abdomen    0\n",
      "Hip        0\n",
      "Thigh      0\n",
      "Knee       0\n",
      "Ankle      0\n",
      "Biceps     0\n",
      "Forearm    0\n",
      "Wrist      0\n",
      "fatpctg    0\n",
      "dtype: int64\n"
     ]
    }
   ],
   "source": [
    "# Check for missing values\n",
    "print(df_bmi.isnull().sum())"
   ]
  },
  {
   "cell_type": "code",
   "execution_count": 88,
   "id": "e3953483",
   "metadata": {},
   "outputs": [
    {
     "name": "stdout",
     "output_type": "stream",
     "text": [
      "              Age      Weight      Height        Neck       Chest     Abdomen  \\\n",
      "count  252.000000  252.000000  252.000000  252.000000  252.000000  252.000000   \n",
      "mean    44.884921  181.497619   73.430159   37.992063  100.824206   92.555952   \n",
      "std     12.602040   30.438150    5.989882    2.430913    8.430476   10.783077   \n",
      "min     22.000000  116.000000   31.600000   31.100000   79.300000   69.400000   \n",
      "25%     35.750000  161.550000   69.675000   36.400000   94.350000   84.575000   \n",
      "50%     43.000000  178.400000   73.400000   38.000000   99.650000   90.950000   \n",
      "75%     54.000000  199.775000   77.350000   39.425000  105.375000   99.325000   \n",
      "max     81.000000  366.100000   89.400000   51.200000  136.200000  148.100000   \n",
      "\n",
      "              Hip       Thigh        Knee       Ankle      Biceps     Forearm  \\\n",
      "count  252.000000  252.000000  252.000000  252.000000  252.000000  252.000000   \n",
      "mean    99.904762   59.405952   38.590476   23.102381   32.273413   28.663889   \n",
      "std      7.164058    5.249952    2.411805    1.694893    3.021274    2.020691   \n",
      "min     85.000000   47.200000   33.000000   19.100000   24.800000   21.000000   \n",
      "25%     95.500000   56.000000   36.975000   22.000000   30.200000   27.300000   \n",
      "50%     99.300000   59.000000   38.500000   22.800000   32.050000   28.700000   \n",
      "75%    103.525000   62.350000   39.925000   24.000000   34.325000   30.000000   \n",
      "max    147.700000   87.300000   49.100000   33.900000   45.000000   34.900000   \n",
      "\n",
      "            Wrist     fatpctg  \n",
      "count  252.000000  252.000000  \n",
      "mean    18.229762   19.150794  \n",
      "std      0.933585    8.368740  \n",
      "min     15.800000    0.000000  \n",
      "25%     17.600000   12.475000  \n",
      "50%     18.300000   19.200000  \n",
      "75%     18.800000   25.300000  \n",
      "max     21.400000   47.500000  \n"
     ]
    }
   ],
   "source": [
    "# Summary statistics\n",
    "print(df_bmi.describe())"
   ]
  },
  {
   "cell_type": "code",
   "execution_count": 90,
   "id": "770185d2",
   "metadata": {},
   "outputs": [],
   "source": [
    "# Assuming all columns except 'fatpctg' are features\n",
    "X = df_bmi.drop('fatpctg', axis=1)\n",
    "\n",
    "# Target variable\n",
    "y = df_bmi['fatpctg']"
   ]
  },
  {
   "cell_type": "code",
   "execution_count": 91,
   "id": "093330b3",
   "metadata": {},
   "outputs": [],
   "source": [
    "from sklearn.model_selection import train_test_split\n",
    "\n",
    "# Split the data into training and testing sets\n",
    "X_train, X_test, y_train, y_test = train_test_split(X, y, test_size=0.2, random_state=42)\n"
   ]
  },
  {
   "cell_type": "code",
   "execution_count": 93,
   "id": "ff0dcc3d",
   "metadata": {},
   "outputs": [
    {
     "data": {
      "text/plain": [
       "LinearRegression()"
      ]
     },
     "execution_count": 93,
     "metadata": {},
     "output_type": "execute_result"
    }
   ],
   "source": [
    "from sklearn.linear_model import LinearRegression\n",
    "\n",
    "# Create a linear regression model\n",
    "model = LinearRegression()\n",
    "\n",
    "# Train the model\n",
    "model.fit(X_train, y_train)\n"
   ]
  },
  {
   "cell_type": "code",
   "execution_count": 94,
   "id": "ec074567",
   "metadata": {},
   "outputs": [
    {
     "name": "stdout",
     "output_type": "stream",
     "text": [
      "Mean Squared Error: 19.551365613094585\n",
      "R-squared: 0.6405671274360322\n"
     ]
    }
   ],
   "source": [
    "from sklearn.metrics import mean_squared_error, r2_score\n",
    "\n",
    "# Make predictions on the test set\n",
    "y_pred = model.predict(X_test)\n",
    "\n",
    "# Evaluate the model\n",
    "mse = mean_squared_error(y_test, y_pred)\n",
    "r2 = r2_score(y_test, y_pred)\n",
    "\n",
    "print(f'Mean Squared Error: {mse}')\n",
    "print(f'R-squared: {r2}')\n"
   ]
  },
  {
   "cell_type": "code",
   "execution_count": 95,
   "id": "d6ae3e6b",
   "metadata": {},
   "outputs": [
    {
     "name": "stdout",
     "output_type": "stream",
     "text": [
      "Collecting mlxtend\n",
      "  Downloading mlxtend-0.23.0-py3-none-any.whl (1.4 MB)\n",
      "Requirement already satisfied: pandas>=0.24.2 in c:\\users\\harsha\\anaconda3\\lib\\site-packages (from mlxtend) (1.3.4)\n",
      "Requirement already satisfied: scipy>=1.2.1 in c:\\users\\harsha\\anaconda3\\lib\\site-packages (from mlxtend) (1.7.1)\n",
      "Collecting scikit-learn>=1.0.2\n",
      "  Downloading scikit_learn-1.3.2-cp39-cp39-win_amd64.whl (9.3 MB)\n",
      "Requirement already satisfied: matplotlib>=3.0.0 in c:\\users\\harsha\\anaconda3\\lib\\site-packages (from mlxtend) (3.4.3)\n",
      "Requirement already satisfied: joblib>=0.13.2 in c:\\users\\harsha\\anaconda3\\lib\\site-packages (from mlxtend) (1.1.0)\n",
      "Requirement already satisfied: numpy>=1.16.2 in c:\\users\\harsha\\anaconda3\\lib\\site-packages (from mlxtend) (1.20.3)\n",
      "Requirement already satisfied: kiwisolver>=1.0.1 in c:\\users\\harsha\\anaconda3\\lib\\site-packages (from matplotlib>=3.0.0->mlxtend) (1.3.1)\n",
      "Requirement already satisfied: pyparsing>=2.2.1 in c:\\users\\harsha\\anaconda3\\lib\\site-packages (from matplotlib>=3.0.0->mlxtend) (3.0.4)\n",
      "Requirement already satisfied: pillow>=6.2.0 in c:\\users\\harsha\\anaconda3\\lib\\site-packages (from matplotlib>=3.0.0->mlxtend) (8.4.0)\n",
      "Requirement already satisfied: python-dateutil>=2.7 in c:\\users\\harsha\\anaconda3\\lib\\site-packages (from matplotlib>=3.0.0->mlxtend) (2.8.2)\n",
      "Requirement already satisfied: cycler>=0.10 in c:\\users\\harsha\\anaconda3\\lib\\site-packages (from matplotlib>=3.0.0->mlxtend) (0.10.0)\n",
      "Requirement already satisfied: six in c:\\users\\harsha\\anaconda3\\lib\\site-packages (from cycler>=0.10->matplotlib>=3.0.0->mlxtend) (1.16.0)\n",
      "Requirement already satisfied: pytz>=2017.3 in c:\\users\\harsha\\anaconda3\\lib\\site-packages (from pandas>=0.24.2->mlxtend) (2023.3.post1)\n",
      "Collecting joblib>=0.13.2\n",
      "  Downloading joblib-1.3.2-py3-none-any.whl (302 kB)\n",
      "Requirement already satisfied: threadpoolctl>=2.0.0 in c:\\users\\harsha\\anaconda3\\lib\\site-packages (from scikit-learn>=1.0.2->mlxtend) (2.2.0)\n",
      "Installing collected packages: joblib, scikit-learn, mlxtend\n",
      "  Attempting uninstall: joblib\n",
      "    Found existing installation: joblib 1.1.0\n",
      "    Uninstalling joblib-1.1.0:\n",
      "      Successfully uninstalled joblib-1.1.0\n",
      "  Attempting uninstall: scikit-learn\n",
      "    Found existing installation: scikit-learn 0.24.2\n",
      "    Uninstalling scikit-learn-0.24.2:\n",
      "      Successfully uninstalled scikit-learn-0.24.2\n",
      "Successfully installed joblib-1.3.2 mlxtend-0.23.0 scikit-learn-1.3.2\n",
      "Note: you may need to restart the kernel to use updated packages.\n"
     ]
    }
   ],
   "source": [
    "pip install mlxtend\n"
   ]
  },
  {
   "cell_type": "code",
   "execution_count": 96,
   "id": "91bf5ca6",
   "metadata": {},
   "outputs": [
    {
     "name": "stdout",
     "output_type": "stream",
     "text": [
      "Features selected (Forward): ('Age', 'Weight', 'Abdomen', 'Thigh', 'Biceps', 'Wrist')\n",
      "Features selected (Backward): ('Age', 'Weight', 'Abdomen', 'Thigh', 'Biceps', 'Wrist')\n"
     ]
    }
   ],
   "source": [
    "import pandas as pd\n",
    "from sklearn.model_selection import train_test_split\n",
    "from sklearn.linear_model import LinearRegression\n",
    "from mlxtend.feature_selection import SequentialFeatureSelector as SFS\n",
    "\n",
    "\n",
    "# Split the data into features (X) and target variable (y)\n",
    "X = df_bmi.drop(\"fatpctg\", axis=1)\n",
    "y = df_bmi[\"fatpctg\"]\n",
    "\n",
    "# Split the data into training and testing sets\n",
    "X_train, X_test, y_train, y_test = train_test_split(X, y, test_size=0.2, random_state=42)\n",
    "\n",
    "# Create a linear regression model\n",
    "model = LinearRegression()\n",
    "\n",
    "# Forward stepwise feature selection\n",
    "sfs_forward = SFS(model, k_features='best', forward=True, scoring='neg_mean_squared_error', cv=5)\n",
    "sfs_forward.fit(X_train, y_train)\n",
    "\n",
    "# Backward stepwise feature selection\n",
    "sfs_backward = SFS(model, k_features='best', forward=False, scoring='neg_mean_squared_error', cv=5)\n",
    "sfs_backward.fit(X_train, y_train)\n",
    "\n",
    "# Print selected features for forward and backward stepwise selection\n",
    "print(\"Features selected (Forward):\", sfs_forward.k_feature_names_)\n",
    "print(\"Features selected (Backward):\", sfs_backward.k_feature_names_)\n"
   ]
  },
  {
   "cell_type": "code",
   "execution_count": 100,
   "id": "a7b2024d",
   "metadata": {},
   "outputs": [
    {
     "name": "stdout",
     "output_type": "stream",
     "text": [
      "Selected features (Forward): ['Abdomen', 'Wrist', 'Weight', 'Neck', 'Ankle', 'Chest', 'Age', 'Thigh', 'Hip', 'Height', 'Knee', 'Forearm', 'Biceps']\n",
      "Selected features (Backward): ['Forearm']\n"
     ]
    }
   ],
   "source": [
    "import pandas as pd\n",
    "import numpy as np\n",
    "from sklearn.model_selection import train_test_split\n",
    "from sklearn.linear_model import LinearRegression\n",
    "from sklearn.metrics import mean_squared_error\n",
    "\n",
    "\n",
    "\n",
    "# Split the data into features (X) and target variable (y)\n",
    "X = df_bmi.drop(\"fatpctg\", axis=1)\n",
    "y = df_bmi[\"fatpctg\"]\n",
    "\n",
    "# Split the data into training and testing sets\n",
    "X_train, X_test, y_train, y_test = train_test_split(X, y, test_size=0.2, random_state=42)\n",
    "\n",
    "# Create a linear regression model\n",
    "model = LinearRegression()\n",
    "\n",
    "# Function to perform forward stepwise regression\n",
    "def forward_stepwise_selection(X, y):\n",
    "    selected_features = []\n",
    "    remaining_features = list(X.columns)\n",
    "\n",
    "    while remaining_features:\n",
    "        mse_scores = []\n",
    "\n",
    "        for feature in remaining_features:\n",
    "            candidate_features = selected_features + [feature]\n",
    "            X_subset = X[candidate_features]\n",
    "            X_train, X_val, y_train, y_val = train_test_split(X_subset, y, test_size=0.2, random_state=42)\n",
    "\n",
    "            model.fit(X_train, y_train)\n",
    "            y_pred = model.predict(X_val)\n",
    "            mse = mean_squared_error(y_val, y_pred)\n",
    "            mse_scores.append(mse)\n",
    "\n",
    "        best_feature_index = np.argmin(mse_scores)\n",
    "        best_feature = remaining_features[best_feature_index]\n",
    "        selected_features.append(best_feature)\n",
    "        remaining_features.remove(best_feature)\n",
    "\n",
    "    return selected_features\n",
    "\n",
    "# Function to perform backward stepwise regression\n",
    "def backward_stepwise_selection(X, y):\n",
    "    selected_features = list(X.columns)\n",
    "\n",
    "    while len(selected_features) > 1:  # Ensure at least one feature is selected\n",
    "        mse_scores = []\n",
    "\n",
    "        for feature in selected_features:\n",
    "            candidate_features = selected_features.copy()\n",
    "            candidate_features.remove(feature)\n",
    "            X_subset = X[candidate_features]\n",
    "\n",
    "            # Ensure the data is in the correct format (numpy array)\n",
    "            if isinstance(X_subset, pd.DataFrame):\n",
    "                X_subset = X_subset.values\n",
    "            if isinstance(y, pd.Series):\n",
    "                y = y.values\n",
    "\n",
    "            X_train, X_val, y_train, y_val = train_test_split(X_subset, y, test_size=0.2, random_state=42)\n",
    "\n",
    "            model.fit(X_train, y_train)\n",
    "            y_pred = model.predict(X_val)\n",
    "            mse = mean_squared_error(y_val, y_pred)\n",
    "            mse_scores.append(mse)\n",
    "\n",
    "        worst_feature_index = np.argmax(mse_scores)\n",
    "        worst_feature = selected_features[worst_feature_index]\n",
    "        selected_features.remove(worst_feature)\n",
    "\n",
    "    return selected_features\n",
    "\n",
    "# Perform forward stepwise selection\n",
    "forward_selected_features = forward_stepwise_selection(X_train, y_train)\n",
    "print(\"Selected features (Forward):\", forward_selected_features)\n",
    "\n",
    "# Perform backward stepwise selection\n",
    "backward_selected_features = backward_stepwise_selection(X_train, y_train)\n",
    "print(\"Selected features (Backward):\", backward_selected_features)"
   ]
  },
  {
   "cell_type": "code",
   "execution_count": 103,
   "id": "a3f42ada",
   "metadata": {},
   "outputs": [
    {
     "name": "stdout",
     "output_type": "stream",
     "text": [
      "Requirement already satisfied: scikit-learn in c:\\users\\harsha\\anaconda3\\lib\\site-packages (1.3.2)\n",
      "Requirement already satisfied: numpy<2.0,>=1.17.3 in c:\\users\\harsha\\anaconda3\\lib\\site-packages (from scikit-learn) (1.20.3)\n",
      "Requirement already satisfied: threadpoolctl>=2.0.0 in c:\\users\\harsha\\anaconda3\\lib\\site-packages (from scikit-learn) (2.2.0)\n",
      "Requirement already satisfied: joblib>=1.1.1 in c:\\users\\harsha\\anaconda3\\lib\\site-packages (from scikit-learn) (1.3.2)\n",
      "Requirement already satisfied: scipy>=1.5.0 in c:\\users\\harsha\\anaconda3\\lib\\site-packages (from scikit-learn) (1.7.1)Note: you may need to restart the kernel to use updated packages.\n",
      "\n"
     ]
    }
   ],
   "source": [
    "pip install --upgrade scikit-learn\n"
   ]
  },
  {
   "cell_type": "code",
   "execution_count": 108,
   "id": "74ae340a",
   "metadata": {},
   "outputs": [
    {
     "name": "stdout",
     "output_type": "stream",
     "text": [
      "Collecting scikit-learn==0.24.2\n",
      "  Downloading scikit_learn-0.24.2-cp39-cp39-win_amd64.whl (6.9 MB)\n",
      "Requirement already satisfied: scipy>=0.19.1 in c:\\users\\harsha\\anaconda3\\lib\\site-packages (from scikit-learn==0.24.2) (1.7.1)\n",
      "Requirement already satisfied: numpy>=1.13.3 in c:\\users\\harsha\\anaconda3\\lib\\site-packages (from scikit-learn==0.24.2) (1.20.3)\n",
      "Requirement already satisfied: threadpoolctl>=2.0.0 in c:\\users\\harsha\\anaconda3\\lib\\site-packages (from scikit-learn==0.24.2) (2.2.0)\n",
      "Requirement already satisfied: joblib>=0.11 in c:\\users\\harsha\\anaconda3\\lib\\site-packages (from scikit-learn==0.24.2) (1.3.2)\n",
      "Installing collected packages: scikit-learn\n",
      "  Attempting uninstall: scikit-learn\n",
      "Note: you may need to restart the kernel to use updated packages.    Found existing installation: scikit-learn 1.3.2\n",
      "    Uninstalling scikit-learn-1.3.2:\n",
      "      Successfully uninstalled scikit-learn-1.3.2\n",
      "Successfully installed scikit-learn-0.24.2\n",
      "\n"
     ]
    },
    {
     "name": "stderr",
     "output_type": "stream",
     "text": [
      "ERROR: pip's dependency resolver does not currently take into account all the packages that are installed. This behaviour is the source of the following dependency conflicts.\n",
      "mlxtend 0.23.0 requires scikit-learn>=1.0.2, but you have scikit-learn 0.24.2 which is incompatible.\n"
     ]
    }
   ],
   "source": [
    "pip install scikit-learn==0.24.2"
   ]
  },
  {
   "cell_type": "code",
   "execution_count": 109,
   "id": "0109ac94",
   "metadata": {},
   "outputs": [
    {
     "data": {
      "image/png": "[encoded data removed]",
      "text/plain": [
       "<Figure size 432x288 with 1 Axes>"
      ]
     },
     "metadata": {
      "needs_background": "light"
     },
     "output_type": "display_data"
    },
    {
     "data": {
      "image/png": "[encoded data removed]",
      "text/plain": [
       "<Figure size 720x576 with 2 Axes>"
      ]
     },
     "metadata": {
      "needs_background": "light"
     },
     "output_type": "display_data"
    }
   ],
   "source": [
    "\n",
    "\n",
    "import pandas as pd\n",
    "import numpy as np\n",
    "import matplotlib.pyplot as plt\n",
    "from sklearn.model_selection import train_test_split\n",
    "from sklearn.ensemble import RandomForestRegressor\n",
    "from sklearn.feature_selection import SelectFromModel\n",
    "import seaborn as sns\n",
    "\n",
    "# Load the data\n",
    "data = pd.read_csv('C:/Users/harsha/Desktop/DataMining_733/Homework3/BMI.csv')\n",
    "\n",
    "# Separate features (X) and target variable (y)\n",
    "X = data.drop('fatpctg', axis=1)\n",
    "y = data['fatpctg']\n",
    "\n",
    "# Split the data into training and testing sets\n",
    "X_train, X_test, y_train, y_test = train_test_split(X, y, test_size=0.2, random_state=42)\n",
    "\n",
    "# Method 1: Feature Importance from Tree-based models (e.g., RandomForest)\n",
    "rf_model = RandomForestRegressor(n_estimators=100, random_state=42)\n",
    "rf_model.fit(X_train, y_train)\n",
    "\n",
    "# Display feature importance\n",
    "feature_importance = pd.Series(rf_model.feature_importances_, index=X.columns)\n",
    "feature_importance.sort_values(ascending=False).plot(kind='barh')\n",
    "plt.title(\"Feature Importance from RandomForest\")\n",
    "plt.show()\n",
    "\n",
    "# Select features based on importance\n",
    "sfm = SelectFromModel(rf_model, threshold='median')\n",
    "sfm.fit(X_train, y_train)\n",
    "selected_features = X_train.columns[sfm.get_support()]\n",
    "\n",
    "# Method 2: Correlation-based feature selection\n",
    "correlation_matrix = data.corr()\n",
    "plt.figure(figsize=(10, 8))\n",
    "sns.heatmap(correlation_matrix, annot=True, cmap='coolwarm', linewidths=0.5)\n",
    "plt.title(\"Correlation Matrix\")\n",
    "plt.show()\n",
    "\n",
    "# Select features based on correlation threshold (e.g., 0.2)\n",
    "correlation_threshold = 0.2\n",
    "selected_features_corr = [col for col in correlation_matrix.columns if abs(correlation_matrix['fatpctg'][col]) > correlation_threshold]\n",
    "\n",
    "# You can now use the selected features for further modeling\n",
    "\n",
    "# Example: Use the selected features for modeling\n",
    "X_train_selected = X_train[selected_features]\n",
    "X_test_selected = X_test[selected_features]\n",
    "\n",
    "# Continue with your preferred modeling approach (e.g., linear regression, support vector machines, etc.)\n",
    "# ...\n",
    "\n",
    "# Evaluate your model and compare the results\n",
    "# ...\n"
   ]
  },
  {
   "cell_type": "code",
   "execution_count": 110,
   "id": "c70f01a9",
   "metadata": {},
   "outputs": [
    {
     "name": "stdout",
     "output_type": "stream",
     "text": [
      "Mean Squared Error (MSE): 30.21634398262012\n",
      "R-squared (R2): 0.4445018557281698\n"
     ]
    }
   ],
   "source": [
    "from sklearn.svm import SVR\n",
    "from sklearn.metrics import mean_squared_error, r2_score\n",
    "\n",
    "# Create an SVM regressor\n",
    "svm_regressor = SVR()\n",
    "\n",
    "# Fit the SVM model using the selected features from Random Forest\n",
    "svm_regressor.fit(X_train_selected, y_train)\n",
    "\n",
    "# Make predictions on the test set\n",
    "y_pred = svm_regressor.predict(X_test_selected)\n",
    "\n",
    "# Evaluate the model\n",
    "mse = mean_squared_error(y_test, y_pred)\n",
    "r2 = r2_score(y_test, y_pred)\n",
    "\n",
    "print(f'Mean Squared Error (MSE): {mse}')\n",
    "print(f'R-squared (R2): {r2}')"
   ]
  },
  {
   "cell_type": "code",
   "execution_count": 111,
   "id": "55b41521",
   "metadata": {},
   "outputs": [
    {
     "name": "stdout",
     "output_type": "stream",
     "text": [
      "Selected features (Forward Stepwise Regression): ['Age', 'Weight', 'Neck', 'Chest', 'Abdomen', 'Hip', 'Thigh', 'Forearm']\n",
      "Mean Squared Error (Forward Stepwise Regression): 16.372596072683596\n"
     ]
    }
   ],
   "source": [
    "# a) Wrapper method: \n",
    "from sklearn.linear_model import LinearRegression\n",
    "from sklearn.metrics import mean_squared_error\n",
    "\n",
    "# Initialize an empty set for selected features\n",
    "selected_features_forward = []\n",
    "\n",
    "# Create a linear regression model\n",
    "model_forward = LinearRegression()\n",
    "\n",
    "# Forward stepwise regression\n",
    "for feature in X_train.columns:\n",
    "    features_to_try = selected_features_forward + [feature]\n",
    "    model_forward.fit(X_train[features_to_try], y_train)\n",
    "    y_pred_forward = model_forward.predict(X_test[features_to_try])\n",
    "    mse_forward = mean_squared_error(y_test, y_pred_forward)\n",
    "    \n",
    "    if not selected_features_forward or mse_forward < mse_forward_best:\n",
    "        mse_forward_best = mse_forward\n",
    "        selected_features_forward = features_to_try\n",
    "\n",
    "print(f\"Selected features (Forward Stepwise Regression): {selected_features_forward}\")\n",
    "print(f\"Mean Squared Error (Forward Stepwise Regression): {mse_forward_best}\")\n"
   ]
  },
  {
   "cell_type": "code",
   "execution_count": 112,
   "id": "c16b9f23",
   "metadata": {},
   "outputs": [
    {
     "name": "stdout",
     "output_type": "stream",
     "text": [
      "Selected features (Backward Stepwise Regression): ['Age', 'Neck', 'Abdomen', 'Hip', 'Thigh', 'Knee', 'Forearm']\n",
      "Mean Squared Error (Backward Stepwise Regression): 15.982010506241709\n"
     ]
    }
   ],
   "source": [
    "from sklearn.linear_model import LinearRegression\n",
    "from sklearn.metrics import mean_squared_error\n",
    "\n",
    "# Create a linear regression model\n",
    "model_backward = LinearRegression()\n",
    "\n",
    "# Backward stepwise regression\n",
    "selected_features_backward = list(X_train.columns)\n",
    "\n",
    "while len(selected_features_backward) > 0:\n",
    "    model_backward.fit(X_train[selected_features_backward], y_train)\n",
    "    y_pred_backward = model_backward.predict(X_test[selected_features_backward])\n",
    "    mse_backward = mean_squared_error(y_test, y_pred_backward)\n",
    "    \n",
    "    mse_without_feature = []\n",
    "\n",
    "    for feature in selected_features_backward:\n",
    "        features_to_try = [f for f in selected_features_backward if f != feature]\n",
    "        model_backward.fit(X_train[features_to_try], y_train)\n",
    "        y_pred_without_feature = model_backward.predict(X_test[features_to_try])\n",
    "        mse_without_feature.append(mean_squared_error(y_test, y_pred_without_feature))\n",
    "\n",
    "    mse_without_feature_min = min(mse_without_feature)\n",
    "\n",
    "    if mse_without_feature_min < mse_backward:\n",
    "        selected_features_backward.pop(mse_without_feature.index(mse_without_feature_min))\n",
    "    else:\n",
    "        break\n",
    "\n",
    "print(f\"Selected features (Backward Stepwise Regression): {selected_features_backward}\")\n",
    "print(f\"Mean Squared Error (Backward Stepwise Regression): {mse_without_feature_min}\")\n"
   ]
  },
  {
   "cell_type": "code",
   "execution_count": 113,
   "id": "585eb740",
   "metadata": {},
   "outputs": [
    {
     "name": "stdout",
     "output_type": "stream",
     "text": [
      "Feature Ranking based on Correlation with Output:\n",
      "Abdomen: 0.8134322847810496\n",
      "Chest: 0.7026203388938652\n",
      "Hip: 0.6252009175086634\n",
      "Weight: 0.6129250288075635\n",
      "Thigh: 0.5596075319940892\n",
      "Knee: 0.5086652428854685\n",
      "Biceps: 0.49327112589161576\n",
      "Neck: 0.4905918534410403\n",
      "Forearm: 0.3613869031997191\n",
      "Wrist: 0.3465748645265859\n",
      "Age: 0.2914584401352218\n",
      "Ankle: 0.2659697703063734\n",
      "Height: 0.13321130513250504\n"
     ]
    }
   ],
   "source": [
    "# b). Filter Method\n",
    "import pandas as pd\n",
    "\n",
    "\n",
    "# Separate features (X) and target variable (y)\n",
    "X = data.drop('fatpctg', axis=1)\n",
    "y = data['fatpctg']\n",
    "\n",
    "# Calculate correlation between input variables and output variable\n",
    "correlation_with_output = X.apply(lambda x: x.corr(y))\n",
    "\n",
    "# Sort features based on correlation\n",
    "sorted_features = correlation_with_output.abs().sort_values(ascending=False)\n",
    "\n",
    "# Output the ranking\n",
    "print(\"Feature Ranking based on Correlation with Output:\")\n",
    "for feature, correlation in sorted_features.items():\n",
    "    print(f\"{feature}: {correlation}\")\n"
   ]
  },
  {
   "cell_type": "markdown",
   "id": "f9e3cf89",
   "metadata": {},
   "source": [
    "# Embedded method\n",
    "1. Lasso regression"
   ]
  },
  {
   "cell_type": "code",
   "execution_count": 114,
   "id": "692f7489",
   "metadata": {},
   "outputs": [
    {
     "name": "stdout",
     "output_type": "stream",
     "text": [
      "Selected features (Lasso Regression): Index(['Age', 'Weight', 'Height', 'Neck', 'Abdomen', 'Thigh', 'Biceps',\n",
      "       'Forearm', 'Wrist'],\n",
      "      dtype='object')\n"
     ]
    }
   ],
   "source": [
    "from sklearn.linear_model import Lasso\n",
    "from sklearn.preprocessing import StandardScaler\n",
    "\n",
    "# Standardize the features\n",
    "scaler = StandardScaler()\n",
    "X_train_scaled = scaler.fit_transform(X_train)\n",
    "X_test_scaled = scaler.transform(X_test)\n",
    "\n",
    "# Create a Lasso regression model\n",
    "lasso_model = Lasso(alpha=0.1)  # You can adjust the alpha parameter\n",
    "\n",
    "# Fit the model\n",
    "lasso_model.fit(X_train_scaled, y_train)\n",
    "\n",
    "# Get selected features based on non-zero coefficients\n",
    "selected_features_lasso = X.columns[lasso_model.coef_ != 0]\n",
    "\n",
    "# Print selected features\n",
    "print(\"Selected features (Lasso Regression):\", selected_features_lasso)\n"
   ]
  },
  {
   "cell_type": "markdown",
   "id": "5e347b7b",
   "metadata": {},
   "source": [
    "2. Random Forest"
   ]
  },
  {
   "cell_type": "code",
   "execution_count": 116,
   "id": "a641ed45",
   "metadata": {},
   "outputs": [
    {
     "name": "stdout",
     "output_type": "stream",
     "text": [
      "Selected features (Random Forest): Index(['Abdomen', 'Weight', 'Wrist', 'Height', 'Hip', 'Neck', 'Chest', 'Age',\n",
      "       'Ankle', 'Biceps', 'Knee', 'Forearm', 'Thigh'],\n",
      "      dtype='object')\n"
     ]
    }
   ],
   "source": [
    "from sklearn.ensemble import RandomForestRegressor\n",
    "\n",
    "# Create a Random Forest model\n",
    "rf_model = RandomForestRegressor(n_estimators=100, random_state=42)\n",
    "\n",
    "# Fit the model\n",
    "rf_model.fit(X_train, y_train)\n",
    "\n",
    "# Get feature importance scores\n",
    "feature_importance_rf = pd.Series(rf_model.feature_importances_, index=X.columns)\n",
    "\n",
    "# Sort features based on importance\n",
    "selected_features_rf = feature_importance_rf.sort_values(ascending=False).index\n",
    "\n",
    "# Print selected features\n",
    "print(\"Selected features (Random Forest):\", selected_features_rf)\n"
   ]
  },
  {
   "cell_type": "code",
   "execution_count": null,
   "id": "ed443c54",
   "metadata": {},
   "outputs": [],
   "source": []
  }
 ],
 "metadata": {
  "kernelspec": {
   "display_name": "Python 3 (ipykernel)",
   "language": "python",
   "name": "python3"
  },
  "language_info": {
   "codemirror_mode": {
    "name": "ipython",
    "version": 3
   },
   "file_extension": ".py",
   "mimetype": "text/x-python",
   "name": "python",
   "nbconvert_exporter": "python",
   "pygments_lexer": "ipython3",
   "version": "3.9.7"
  }
 },
 "nbformat": 4,
 "nbformat_minor": 5
}
